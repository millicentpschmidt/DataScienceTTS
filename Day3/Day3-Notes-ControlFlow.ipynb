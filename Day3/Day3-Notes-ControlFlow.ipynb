{
 "cells": [
  {
   "cell_type": "markdown",
   "metadata": {},
   "source": [
    "# Day 3 Notes"
   ]
  },
  {
   "cell_type": "markdown",
   "metadata": {},
   "source": [
    "## Control Flow\n",
    "With Control Flow, you can: execute certain code blocks conditionally and/or repeatedly\n",
    "\n",
    "Conditional Statements:\n",
    " - if\n",
    " - elif\n",
    " - else\n",
    " \n",
    "Loop statements\n",
    " - for\n",
    " - while\n",
    " \n",
    "Other Control Flow\n",
    " - break\n",
    " - continue\n",
    " - pass"
   ]
  },
  {
   "cell_type": "markdown",
   "metadata": {},
   "source": [
    "## Conditional Statements\n",
    "\n",
    "If-then statements\n",
    " - allow the programmer to execute certain pieces of code depending on some Boolean condition\n",
    " - elif and else blocks are optional\n",
    " - include as few or as many elif statements as you like\n",
    " - used for decision making"
   ]
  },
  {
   "cell_type": "code",
   "execution_count": 55,
   "metadata": {},
   "outputs": [
    {
     "name": "stdout",
     "output_type": "stream",
     "text": [
      "Number is positive\n",
      "This will print always\n"
     ]
    }
   ],
   "source": [
    "num = 10\n",
    "\n",
    "# try 0, -1 and None\n",
    "if -1:\n",
    "    print(\"Number is positive\")\n",
    "print(\"This will print always\")      #This print statement always print\n",
    "\n",
    "#change number"
   ]
  },
  {
   "cell_type": "code",
   "execution_count": 14,
   "metadata": {},
   "outputs": [
    {
     "name": "stdout",
     "output_type": "stream",
     "text": [
      "0 is zero\n"
     ]
    }
   ],
   "source": [
    "x = 0\n",
    "\n",
    "if x == 0:\n",
    "    print(x, \"is zero\")\n",
    "elif x > 0:\n",
    "    print(x, \"is positive\")\n",
    "elif x < 0:\n",
    "    print(x, \"is negative\")\n",
    "else:\n",
    "    print(x, \"is unlike anything I've ever seen...\")"
   ]
  },
  {
   "cell_type": "code",
   "execution_count": 59,
   "metadata": {},
   "outputs": [
    {
     "name": "stdout",
     "output_type": "stream",
     "text": [
      "Negative Number\n"
     ]
    }
   ],
   "source": [
    "# nested if statements\n",
    "\n",
    "num = -10\n",
    "\n",
    "if num >= 0:\n",
    "    if num == 0:\n",
    "        print(\"Zero\")\n",
    "    else:\n",
    "        print(\"Positive number\")\n",
    "else:\n",
    "    print(\"Negative Number\")"
   ]
  },
  {
   "cell_type": "code",
   "execution_count": 62,
   "metadata": {},
   "outputs": [
    {
     "name": "stdout",
     "output_type": "stream",
     "text": [
      "Largest element among three numbers is: 50\n"
     ]
    }
   ],
   "source": [
    "# finds the largest number among three\n",
    "\n",
    "num1 = 10\n",
    "num2 = 15\n",
    "num3 = 50\n",
    "\n",
    "if (num1 >= num2) and (num1 >= num3):           #logical operator   and\n",
    "    largest = num1\n",
    "elif (num2 >= num1) and (num2 >= num3):\n",
    "    largest = num2\n",
    "else:\n",
    "    largest = num3\n",
    "print(\"Largest element among three numbers is: {}\".format(largest))"
   ]
  },
  {
   "cell_type": "markdown",
   "metadata": {},
   "source": [
    "## For Loops\n",
    " - a way to repeatedly execute some code statement\n",
    " - iterable is a collection of objects—for example, a list or tuple\n",
    " - statement(s) in the loop body are denoted by indentation\n",
    " - loop variable var takes on the value of the next element in iterable each time through the loop"
   ]
  },
  {
   "cell_type": "code",
   "execution_count": 15,
   "metadata": {},
   "outputs": [
    {
     "name": "stdout",
     "output_type": "stream",
     "text": [
      "2 3 5 7 "
     ]
    }
   ],
   "source": [
    "for N in [2, 3, 5, 7]:\n",
    "    print(N, end=' ') # print all on same line"
   ]
  },
  {
   "cell_type": "code",
   "execution_count": 16,
   "metadata": {},
   "outputs": [
    {
     "name": "stdout",
     "output_type": "stream",
     "text": [
      "0 1 2 3 4 5 6 7 8 9 "
     ]
    }
   ],
   "source": [
    "for i in range(10):   # range starts at 0 by default\n",
    "    print(i, end=' ')"
   ]
  },
  {
   "cell_type": "code",
   "execution_count": 19,
   "metadata": {},
   "outputs": [
    {
     "name": "stdout",
     "output_type": "stream",
     "text": [
      "[5, 6, 7, 8, 9]\n",
      "[0, 2, 4, 6, 8]\n"
     ]
    }
   ],
   "source": [
    "# range from 5 to 10\n",
    "print(list(range(5, 10)))\n",
    "\n",
    "\n",
    "# range from 0 to 10 by 2\n",
    "print(list(range(0, 10, 2)))"
   ]
  },
  {
   "cell_type": "markdown",
   "metadata": {},
   "source": [
    "## While Loops\n",
    "\n",
    " - iterates until some condition is met\n",
    " - statement(s) represents the block to be repeatedly executed (body of the loop)\n",
    " - controlling expression typically involves one or more variables that are initialized prior to starting the loop and then modified somewhere in the loop body\n",
    " \n",
    "When a while loop is encountered, expr is first evaluated in Boolean context. If it is true, the loop body is executed. Then expr is checked again, and if still true, the body is executed again. This continues until expr becomes false, at which point program execution proceeds to the first statement beyond the loop body."
   ]
  },
  {
   "cell_type": "code",
   "execution_count": 20,
   "metadata": {},
   "outputs": [
    {
     "name": "stdout",
     "output_type": "stream",
     "text": [
      "0 1 2 3 4 5 6 7 8 9 "
     ]
    }
   ],
   "source": [
    "i = 0\n",
    "while i < 10:\n",
    "    print(i, end=' ')\n",
    "    i += 1"
   ]
  },
  {
   "cell_type": "code",
   "execution_count": 43,
   "metadata": {},
   "outputs": [
    {
     "name": "stdout",
     "output_type": "stream",
     "text": [
      "Product is: 14400000\n"
     ]
    }
   ],
   "source": [
    "#Find product of all numbers present in a list\n",
    "\n",
    "lst = [10, 20, 30, 40, 60]\n",
    "\n",
    "product = 1\n",
    "index = 0\n",
    "\n",
    "while index < len(lst):\n",
    "    product *= lst[index]\n",
    "    index += 1\n",
    "\n",
    "print(\"Product is: {}\".format(product))"
   ]
  },
  {
   "cell_type": "markdown",
   "metadata": {},
   "source": [
    "## Break and Continue\n",
    "\n",
    " - The break statement breaks-out of the loop entirely\n",
    " - The continue statement skips the remainder of the current loop, and goes to the next iteration"
   ]
  },
  {
   "cell_type": "code",
   "execution_count": 21,
   "metadata": {},
   "outputs": [
    {
     "name": "stdout",
     "output_type": "stream",
     "text": [
      "1 3 5 7 9 11 13 15 17 19 "
     ]
    }
   ],
   "source": [
    "# loop for generating a list of prime numbers\n",
    "\n",
    "for n in range(20):\n",
    "    # if the remainder of n / 2 is 0, skip the rest of the loop\n",
    "    if n % 2 == 0:\n",
    "        continue\n",
    "    print(n, end=' ')"
   ]
  },
  {
   "cell_type": "markdown",
   "metadata": {},
   "source": [
    "Reading the previous code:\n",
    "for the counter in in a range of 0 to 19\n",
    "    if n mod 2 is equivalent to 0 (i.e. is divisible by 2)\n",
    "        skip to the next iteration of n\n",
    "    if n mod 2 is not equivalent to 0 (i.e. if it is not divisible by 2)\n",
    "        print n with a space after it (and no line break)\n",
    "    and so on until 19"
   ]
  },
  {
   "cell_type": "code",
   "execution_count": 5,
   "metadata": {},
   "outputs": [
    {
     "name": "stdout",
     "output_type": "stream",
     "text": [
      "[1, 1, 2, 3, 5, 8, 13, 21, 34, 55, 89]\n"
     ]
    }
   ],
   "source": [
    "a, b = 0, 1\n",
    "amax = 100\n",
    "L = []\n",
    "\n",
    "while True:\n",
    "    (a, b) = (b, a + b)\n",
    "    if a > amax:\n",
    "        break\n",
    "    L.append(a)\n",
    "\n",
    "print(L)"
   ]
  },
  {
   "cell_type": "markdown",
   "metadata": {},
   "source": [
    "## Loops with else Block\n"
   ]
  },
  {
   "cell_type": "code",
   "execution_count": 11,
   "metadata": {},
   "outputs": [
    {
     "name": "stdout",
     "output_type": "stream",
     "text": [
      "[2, 3, 5, 7, 11, 13, 17, 19, 23, 29]\n"
     ]
    }
   ],
   "source": [
    "L = []\n",
    "nmax = 30\n",
    "\n",
    "for n in range(2, nmax):\n",
    "    for factor in L:\n",
    "        if n % factor == 0:\n",
    "            break\n",
    "    else: # no break\n",
    "        L.append(n)\n",
    "print(L)"
   ]
  },
  {
   "cell_type": "markdown",
   "metadata": {},
   "source": [
    "Reading the above program:\n",
    " - Variable L points to an empty list\n",
    " - nmax points to 30\n",
    " - begin for loop iterating the value n from 2 (inclusive) to 30 (exclusive)\n",
    "     - For a factor in L (of which there are no factors the first time)\n",
    "         - if n mod factor is zero (i.e. it is an even number)\n",
    "         - n mod factor is not 0 the first time because there are no factors in L so breaks to-->\n",
    "     - else append n to the list L\n",
    "     - for the first iteration, 2 is appended\n",
    "         - next for n = 3 and factor = 2, 3 mod 2 does not = 0 so\n",
    "     - else append 3 to the list\n",
    "         - next iteration n = 4 and factor = 3\n",
    "         - etc...etc...etc...\n",
    "         - eventually after the n = 29 iteration,\n",
    "         \n",
    "I'm confusing myself, this only generates prime numbers, which is why range can't start with 1. Everything is divisble by 1.\n",
    " n values: 2, 3, 4, 5, 6, 7, 8, 9...\n",
    " factor values = N/A, 2, 3, 3, 5, 5, hmmm"
   ]
  },
  {
   "cell_type": "code",
   "execution_count": 48,
   "metadata": {},
   "outputs": [
    {
     "name": "stdout",
     "output_type": "stream",
     "text": [
      "Enter a number: 22\n",
      "22 is divisible by 2\n",
      "22 is divisible by 11\n",
      "22 is NOT a Prime number\n"
     ]
    }
   ],
   "source": [
    "num = int(input(\"Enter a number: \"))        #convert string to int\n",
    "\n",
    "\n",
    "isDivisible = False\n",
    "\n",
    "i=2 # must start with 2 otherwise everything is divisible by 1\n",
    "# this while loop finds the factors of the input number\n",
    "while i < num:\n",
    "    if num % i == 0:\n",
    "        isDivisible = True;\n",
    "        print (\"{} is divisible by {}\".format(num,i) )\n",
    "    i += 1;\n",
    "\n",
    "# This if statement tells the user if the numebr they entered is prime\n",
    "if isDivisible:\n",
    "    print(\"{} is NOT a Prime number\".format(num))\n",
    "else:\n",
    "    print(\"{} is a Prime number\".format(num))"
   ]
  },
  {
   "cell_type": "markdown",
   "metadata": {},
   "source": [
    "## Statements\n",
    "\n",
    " - Statements are commands that have some effect\n",
    " - example: function call (that is not part of another expression) is a statement\n",
    " - example: the variable assignment is a statement\n",
    " - flow-control statements such as if-else, for and while loops\n",
    " - no ++ or -- operators like in other languages"
   ]
  },
  {
   "cell_type": "code",
   "execution_count": 23,
   "metadata": {},
   "outputs": [
    {
     "name": "stdout",
     "output_type": "stream",
     "text": [
      "7\n"
     ]
    }
   ],
   "source": [
    "i = 5\n",
    "i = i+1    # This is a common idiom to increment the value of i by one\n",
    "i += 1     # This is a short-hand for the above / to increment the value i by one\n",
    "\n",
    "print(i)"
   ]
  },
  {
   "cell_type": "markdown",
   "metadata": {},
   "source": [
    "## Functions\n",
    "\n",
    "definition: A function is a self-contained block of code that encapsulates a specific task or related group of tasks\n",
    "\n",
    "List of python's [built-in functions](https://docs.python.org/3/library/functions.html)\n",
    "\n",
    "[Syntax Image](data:image/png;base64,%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)\n",
    "\n",
    "What you need to know about a function\n",
    " - what arguments (if any) it takes\n",
    " - what values (if any) it return\n",
    "\n",
    "The Components of a Function\n",
    " - Keyword def that marks the start of the function header.\n",
    " - A function name to uniquely identify the function. Function naming follows the same rules of writing identifiers in Python.\n",
    " - Parameters (arguments) through which we pass values to a function. They are optional.\n",
    " - A colon (:) to mark the end of the function header.\n",
    " - Optional documentation string (docstring) to describe what the function does.\n",
    " - One or more valid python statements that make up the function body. Statements must have the same indentation level (usually 4 spaces).\n",
    " - An optional return statement to return a value from the function."
   ]
  },
  {
   "cell_type": "code",
   "execution_count": 24,
   "metadata": {},
   "outputs": [
    {
     "data": {
      "text/plain": [
       "140481133117936"
      ]
     },
     "execution_count": 24,
     "metadata": {},
     "output_type": "execute_result"
    }
   ],
   "source": [
    "#len() function  returns the length of the argument passed to it:\n",
    "name = 'Marissa'\n",
    "len(name)\n",
    "\n",
    "# id()  function takes one argument and returns that object’s unique integer identifier:\n",
    "id(name)"
   ]
  },
  {
   "cell_type": "code",
   "execution_count": 25,
   "metadata": {},
   "outputs": [
    {
     "name": "stdout",
     "output_type": "stream",
     "text": [
      "8 2.4 abcabc\n"
     ]
    }
   ],
   "source": [
    "# Example of a function\n",
    "def double(x):\n",
    "    \"This function multiplies its argument by two.\"\n",
    "    return x*2\n",
    "print(double(4), double(1.2), double(\"abc\")) # It even happens to work for strings!"
   ]
  },
  {
   "cell_type": "code",
   "execution_count": 26,
   "metadata": {},
   "outputs": [
    {
     "name": "stdout",
     "output_type": "stream",
     "text": [
      "The docstring is: This function multiplies its argument by two.\n",
      "Help on function double in module __main__:\n",
      "\n",
      "double(x)\n",
      "    This function multiplies its argument by two.\n",
      "\n"
     ]
    }
   ],
   "source": [
    "\n",
    "print(\"The docstring is:\", double.__doc__)\n",
    "help(double)   # Another way to access the docstring"
   ]
  },
  {
   "cell_type": "code",
   "execution_count": 27,
   "metadata": {},
   "outputs": [
    {
     "name": "stdout",
     "output_type": "stream",
     "text": [
      "Help on built-in function print in module builtins:\n",
      "\n",
      "print(...)\n",
      "    print(value, ..., sep=' ', end='\\n', file=sys.stdout, flush=False)\n",
      "    \n",
      "    Prints the values to a stream, or to sys.stdout by default.\n",
      "    Optional keyword arguments:\n",
      "    file:  a file-like object (stream); defaults to the current sys.stdout.\n",
      "    sep:   string inserted between values, default a space.\n",
      "    end:   string appended after the last value, default a newline.\n",
      "    flush: whether to forcibly flush the stream.\n",
      "\n"
     ]
    }
   ],
   "source": [
    "help(print)"
   ]
  },
  {
   "cell_type": "code",
   "execution_count": 28,
   "metadata": {},
   "outputs": [
    {
     "name": "stdout",
     "output_type": "stream",
     "text": [
      "25\n"
     ]
    }
   ],
   "source": [
    "def sum_of_squares(a, b):\n",
    "    \"Computes the sum of arguments squared\"\n",
    "    return a**2 + b**2\n",
    "\n",
    "#call function and pass values into it\n",
    "print(sum_of_squares(3, 4))"
   ]
  },
  {
   "cell_type": "code",
   "execution_count": 29,
   "metadata": {},
   "outputs": [
    {
     "name": "stdout",
     "output_type": "stream",
     "text": [
      "4\n",
      "45\n"
     ]
    }
   ],
   "source": [
    "def sum_of_squares(lst):\n",
    "    \"Computes the sum of squares of elements in the list given as parameter\"\n",
    "    s=0\n",
    "    for x in lst:\n",
    "        s += x**2\n",
    "    return s\n",
    "print(sum_of_squares([-2]))\n",
    "print(sum_of_squares([-2,4,5]))"
   ]
  },
  {
   "cell_type": "markdown",
   "metadata": {},
   "source": [
    "Reading of above program:\n",
    " - define a progream sum_of_squares with parameter list\n",
    " - when sum of squares is called,\n",
    "     - s is initialized to zero\n",
    "     - for x in list\n",
    "     - s gets s + x squared\n",
    " - function returns value s\n",
    " - for sum_of_squares([-2])\n",
    "     - for -2 in the list, s gets 0 + (-2)^2\n",
    "     - so s returns 4\n",
    " - for sum_of_squares([-2, 4, 5])\n",
    "     - for -2 in the list, s gets 0 + (-2)^2 = 4\n",
    "     - for 4 in the list, s gets 4 + 4^2 = 20\n",
    "     - for 5 in the list, s gets 20 + 5^2 = 45"
   ]
  },
  {
   "cell_type": "markdown",
   "metadata": {},
   "source": [
    "### Parameters & Arguments\n",
    " - a function call can also have named arguments\n",
    " - named arguments didn’t need to be in the same order as in the function definition\n",
    " - named arguments must come after the positional arguments\n",
    " - can also specify an optional parameter by giving the parameter a default value\n",
    " - parameters that have default values must come after those parameters that don’t"
   ]
  },
  {
   "cell_type": "code",
   "execution_count": 31,
   "metadata": {},
   "outputs": [
    {
     "name": "stdout",
     "output_type": "stream",
     "text": [
      "4\n",
      "45\n",
      "With list unpacked as arguments to the functions: 90\n"
     ]
    }
   ],
   "source": [
    "# Same program but with a packed argument, which is a tuple\n",
    "\n",
    "def sum_of_squares(*t):\n",
    "    \"Computes the sum of squares of arbitrary number of arguments\"\n",
    "    s=0\n",
    "    for x in t:\n",
    "        s += x**2\n",
    "    return s\n",
    "print(sum_of_squares(-2))\n",
    "print(sum_of_squares(-2,4,5))\n",
    "\n",
    "lst=[1,5,8]\n",
    "print(\"With list unpacked as arguments to the functions:\", sum_of_squares(*lst)) # argument unpacking in the return\n",
    "# print(sum_of_squares(lst))    # Does not work correctly"
   ]
  },
  {
   "cell_type": "code",
   "execution_count": 32,
   "metadata": {},
   "outputs": [
    {
     "name": "stdout",
     "output_type": "stream",
     "text": [
      "First: 5 Second: 8 Third: 7\n"
     ]
    }
   ],
   "source": [
    "def named(a, b, c):\n",
    "    print(\"First:\", a, \"Second:\", b, \"Third:\", c)\n",
    "named(5, c=7, b=8) # named arguments"
   ]
  },
  {
   "cell_type": "code",
   "execution_count": 33,
   "metadata": {},
   "outputs": [
    {
     "name": "stdout",
     "output_type": "stream",
     "text": [
      "1 -*- 2 -*- 3 |first -*- second -*- third |"
     ]
    }
   ],
   "source": [
    "print(1, 2, 3, end=' |', sep=' -*- ')\n",
    "print(\"first\", \"second\", \"third\", end=' |', sep=' -*- ')"
   ]
  },
  {
   "cell_type": "code",
   "execution_count": 34,
   "metadata": {},
   "outputs": [
    {
     "name": "stdout",
     "output_type": "stream",
     "text": [
      "5.0\n",
      "4.497941445275415\n"
     ]
    }
   ],
   "source": [
    "def length(*t, degree=2):\n",
    "    \"\"\"Computes the length of the vector given as parameter. By default, it computes\n",
    "    the Euclidean distance (degree==2)\"\"\"\n",
    "    s=0\n",
    "    for x in t:\n",
    "        s += abs(x)**degree\n",
    "    return s**(1/degree)\n",
    "print(length(-4,3))\n",
    "print(length(-4,3, degree=3))"
   ]
  },
  {
   "cell_type": "markdown",
   "metadata": {},
   "source": [
    "### Visibility of Variables (global, local, nonlocal)\n",
    "\n",
    " - Function definition creates a new namespace (also called local scope)\n",
    " - local variables--Variables created inside the local scope are not available outside the function definition\n",
    " - function parameters are only visible inside the function definition\n",
    " - global variables--Variables that are not defined inside any function\n",
    " - global variables are readable inside local scopes but not repointed\n",
    " - local variables hide/obscure global variables of the same name (but only in the function)"
   ]
  },
  {
   "cell_type": "code",
   "execution_count": 35,
   "metadata": {},
   "outputs": [
    {
     "name": "stdout",
     "output_type": "stream",
     "text": [
      "5\n",
      "5\n"
     ]
    }
   ],
   "source": [
    "# rebind a global variable\n",
    "\n",
    "\n",
    "i=2\n",
    "def f():\n",
    "    global i\n",
    "    i=5       # rebind the global i variable\n",
    "    print(i)  # This will print 5\n",
    "f()\n",
    "print(i)      # This will print 5"
   ]
  },
  {
   "cell_type": "code",
   "execution_count": 38,
   "metadata": {},
   "outputs": [
    {
     "name": "stdout",
     "output_type": "stream",
     "text": [
      "3\n",
      "2\n"
     ]
    }
   ],
   "source": [
    "# nested scopes for nested functions (this makes my brain wobbley)\n",
    "\n",
    "def f():            # outer function\n",
    "    b=2\n",
    "    def g():        # inner function\n",
    "        # nonlocal b # Without this nonlocal statement,\n",
    "        b=3         # this will create a new local variable\n",
    "        print(b)\n",
    "    g()\n",
    "    print(b)\n",
    "f()"
   ]
  },
  {
   "cell_type": "code",
   "execution_count": 39,
   "metadata": {},
   "outputs": [
    {
     "name": "stdout",
     "output_type": "stream",
     "text": [
      "3\n",
      "3\n"
     ]
    }
   ],
   "source": [
    "# nested scopes for nested functions (this makes my brain wobbley)\n",
    "\n",
    "def f():            # outer function\n",
    "    b=2\n",
    "    def g():        # inner function\n",
    "        nonlocal b # Without this nonlocal statement,\n",
    "        b=3         # this will create a new local variable\n",
    "        print(b)\n",
    "    g()\n",
    "    print(b)\n",
    "f()"
   ]
  },
  {
   "cell_type": "markdown",
   "metadata": {},
   "source": [
    "## Fucking Recursion\n",
    "Definition--a defined function that calls itself"
   ]
  },
  {
   "cell_type": "code",
   "execution_count": 42,
   "metadata": {},
   "outputs": [],
   "source": [
    "#torture\n",
    "\n",
    "def TowerOfHanoi(n , source, destination, auxilliary): \n",
    "    if n==1: \n",
    "        print(\"Move disk 1 from source\",source,\"to destination\",destination)\n",
    "        return\n",
    "    \n",
    "    TowerOfHanoi(n-1, source, auxilliary, destination) \n",
    "    print(\"Move disk\",n,\"from source\",source,\"to destination\",destination)\n",
    "    \n",
    "    TowerOfHanoi(n-1, auxilliary, destination, source)"
   ]
  },
  {
   "cell_type": "code",
   "execution_count": 41,
   "metadata": {},
   "outputs": [
    {
     "name": "stdout",
     "output_type": "stream",
     "text": [
      "Move disk 1 from source A to destination C\n",
      "Move disk 2 from source A to destination B\n",
      "Move disk 1 from source C to destination B\n",
      "Move disk 3 from source A to destination C\n",
      "Move disk 1 from source B to destination A\n",
      "Move disk 2 from source B to destination C\n",
      "Move disk 1 from source A to destination C\n",
      "Move disk 4 from source A to destination B\n",
      "Move disk 1 from source C to destination B\n",
      "Move disk 2 from source C to destination A\n",
      "Move disk 1 from source B to destination A\n",
      "Move disk 3 from source C to destination B\n",
      "Move disk 1 from source A to destination C\n",
      "Move disk 2 from source A to destination B\n",
      "Move disk 1 from source C to destination B\n"
     ]
    }
   ],
   "source": [
    "# Driver code \n",
    "n = 4\n",
    "TowerOfHanoi(n,'A','B','C')  \n",
    "# A, C, B are the name of rods"
   ]
  },
  {
   "cell_type": "code",
   "execution_count": null,
   "metadata": {},
   "outputs": [],
   "source": []
  }
 ],
 "metadata": {
  "kernelspec": {
   "display_name": "Python 3",
   "language": "python",
   "name": "python3"
  },
  "language_info": {
   "codemirror_mode": {
    "name": "ipython",
    "version": 3
   },
   "file_extension": ".py",
   "mimetype": "text/x-python",
   "name": "python",
   "nbconvert_exporter": "python",
   "pygments_lexer": "ipython3",
   "version": "3.8.5"
  }
 },
 "nbformat": 4,
 "nbformat_minor": 4
}
