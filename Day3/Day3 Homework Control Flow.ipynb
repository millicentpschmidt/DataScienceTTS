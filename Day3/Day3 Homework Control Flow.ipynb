{
 "cells": [
  {
   "cell_type": "markdown",
   "metadata": {},
   "source": [
    "# Day 3 Homework Control Flow"
   ]
  },
  {
   "cell_type": "markdown",
   "metadata": {},
   "source": [
    "## Exercise 1\n",
    "Guess a number between 1 to 9 given by the user"
   ]
  },
  {
   "cell_type": "code",
   "execution_count": 6,
   "metadata": {},
   "outputs": [
    {
     "name": "stdout",
     "output_type": "stream",
     "text": [
      "Pick a number between 1 and 9 and I'll guess what it is 9\n",
      "Your value is 9\n"
     ]
    }
   ],
   "source": [
    "val = input(\"Pick a number between 1 and 9 and I'll guess what it is \")\n",
    "\n",
    "# this was my first try\n",
    "for n in range(1, 10):\n",
    "    if n == val:\n",
    "        break\n",
    "        \n",
    "print(\"Your value is \" + str(n))\n",
    "\n",
    "\n",
    "\n",
    "# import random\n",
    "# guess = random.randrange(1, 9)\n",
    "\n",
    "# if guess == val:\n",
    "    "
   ]
  },
  {
   "cell_type": "markdown",
   "metadata": {},
   "source": [
    "## Exercise 2\n",
    "Check the validity of password input by the user.\n",
    "\n",
    "Validation:\n",
    "\n",
    " - At least 1 letter between [a-z] and 1 letter between [A-Z]\n",
    " - At least 1 number between [0-9]\n",
    " - At least 1 character from [$#@]\n",
    " - Minimum length 6 characters\n",
    " - Maximum length 16 characters"
   ]
  },
  {
   "cell_type": "code",
   "execution_count": 14,
   "metadata": {},
   "outputs": [
    {
     "name": "stdout",
     "output_type": "stream",
     "text": [
      "Please input a password: CaCO3100#\n",
      "You selected a valid password\n"
     ]
    }
   ],
   "source": [
    "pw = input(\"Please input a password: \")\n",
    "n = True\n",
    "import re\n",
    "\n",
    "while n:\n",
    "    if (len(pw)<6 or len(pw)>12):\n",
    "        break\n",
    "    elif not re.search(\"[a-z]\", pw):\n",
    "        break\n",
    "    elif not re.search(\"[A-Z]\", pw):\n",
    "        break\n",
    "    elif not re.search(\"[0-9]\", pw):\n",
    "        break\n",
    "    elif not re.search(\"[$#@]\", pw):\n",
    "        break\n",
    "    else:\n",
    "        print(\"You selected a valid password\")\n",
    "        n = False\n",
    "        break\n",
    "    \n",
    "if n == True:\n",
    "    print(\"Not a valid password\")"
   ]
  },
  {
   "cell_type": "markdown",
   "metadata": {},
   "source": [
    "## Exercise 3\n",
    "Get input of the age of 3 people by user and determine oldest and youngest among them"
   ]
  },
  {
   "cell_type": "code",
   "execution_count": 20,
   "metadata": {},
   "outputs": [
    {
     "name": "stdout",
     "output_type": "stream",
     "text": [
      "What is the age of person 1? 2\n",
      "What is the age of person 2? 5\n",
      "What is the age of person 3? 5\n",
      "The oldest person is 5\n",
      "The youngest person is 2\n"
     ]
    }
   ],
   "source": [
    "age1 = int(input(\"What is the age of person 1? \"))\n",
    "age2 = int(input(\"What is the age of person 2? \" ))\n",
    "age3 = int(input(\"What is the age of person 3? \"))\n",
    "\n",
    "def oldest(age1, age2, age3):\n",
    "    if (age1 > age2) and (age1 > age3):\n",
    "        oldestAge = age1\n",
    "    elif (age2 > age1) and (age2 > age3):\n",
    "        oldestAge = age2\n",
    "    else:\n",
    "        oldestAge = age3\n",
    "    print(\"The oldest person is \" + str(oldestAge))\n",
    "    \n",
    "def youngest(age1, age2, age3):\n",
    "    if (age1 < age2) and (age1 < age3):\n",
    "        youngestAge = age1\n",
    "    elif (age2 < age1) and (age2 < age3):\n",
    "        youngestAge = age2\n",
    "    else:\n",
    "        youngestAge = age3\n",
    "    print(\"The youngest person is \" + str(youngestAge))\n",
    "    \n",
    "oldest(age1, age2, age3)\n",
    "youngest(age1, age2, age3)"
   ]
  },
  {
   "cell_type": "markdown",
   "metadata": {},
   "source": [
    "## Exercise 4\n",
    "A student will not be allowed to sit in exam if his/her attendance is less than 75%.\n",
    "\n",
    "Take following input from user\n",
    "\n",
    " - Number of classes held\n",
    " - Number of classes attended.\n",
    "\n",
    "And print\n",
    " - percentage of class attended\n",
    " - Is student is allowed to sit in exam or not?"
   ]
  },
  {
   "cell_type": "code",
   "execution_count": 25,
   "metadata": {},
   "outputs": [
    {
     "name": "stdout",
     "output_type": "stream",
     "text": [
      "How many classes were held? 10\n",
      "How many classes did you attend? 8\n",
      "You attended  80.0 % of your classes.\n",
      "You are allowed to sit the exam.\n"
     ]
    }
   ],
   "source": [
    "numClasses = int(input(\"How many classes were held? \"))\n",
    "numAttended = int(input(\"How many classes did you attend? \"))\n",
    "\n",
    "percent = numAttended / numClasses * 100\n",
    "\n",
    "print(\"You attended \", percent, \"% of your classes.\")\n",
    "\n",
    "if percent < 75:\n",
    "    print(\"You are not allowed to sit the exam.\")\n",
    "else:\n",
    "    print(\"You are allowed to sit the exam.\")"
   ]
  },
  {
   "cell_type": "markdown",
   "metadata": {},
   "source": [
    "## Exercise 5\n",
    "Get an integer N from the user and perform the following actions:\n",
    "\n",
    " - if N is odd, print \"weird\"\n",
    " - if N is even and in the inclusive range of 2 to 5, print \"Not Weird\"\n",
    " - if N is even and in the inclusive range of 6 to 20, print \"Weird\"\n",
    " - if N is even and greater than 20, print \"Not Weird\""
   ]
  },
  {
   "cell_type": "code",
   "execution_count": 40,
   "metadata": {},
   "outputs": [
    {
     "name": "stdout",
     "output_type": "stream",
     "text": [
      "Please input and integer: 4\n",
      "Not Weird\n"
     ]
    }
   ],
   "source": [
    "num = int(input(\"Please input and integer: \"))\n",
    "\n",
    "remainder = num % 2\n",
    "\n",
    "if remainder != 0:\n",
    "    print(\"weird\")\n",
    "else:\n",
    "    if (2 <= num <= 5):\n",
    "        print(\"Not Weird\")\n",
    "    elif (6 <= num <= 20):\n",
    "        print(\"Weird\")\n",
    "    elif (num > 20):\n",
    "        print(\"Not Weird\")"
   ]
  },
  {
   "cell_type": "code",
   "execution_count": 31,
   "metadata": {},
   "outputs": [],
   "source": []
  },
  {
   "cell_type": "code",
   "execution_count": null,
   "metadata": {},
   "outputs": [],
   "source": []
  }
 ],
 "metadata": {
  "kernelspec": {
   "display_name": "Python 3",
   "language": "python",
   "name": "python3"
  },
  "language_info": {
   "codemirror_mode": {
    "name": "ipython",
    "version": 3
   },
   "file_extension": ".py",
   "mimetype": "text/x-python",
   "name": "python",
   "nbconvert_exporter": "python",
   "pygments_lexer": "ipython3",
   "version": "3.8.5"
  }
 },
 "nbformat": 4,
 "nbformat_minor": 4
}
