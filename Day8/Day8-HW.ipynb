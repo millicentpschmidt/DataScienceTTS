{
 "cells": [
  {
   "cell_type": "markdown",
   "metadata": {},
   "source": [
    "# Day 8 HW"
   ]
  },
  {
   "cell_type": "code",
   "execution_count": 15,
   "metadata": {},
   "outputs": [
    {
     "name": "stdout",
     "output_type": "stream",
     "text": [
      "B\n",
      "C\n"
     ]
    }
   ],
   "source": [
    "class Person:\n",
    "    \n",
    "    def __init__(self, first, last):\n",
    "        self.first = first\n",
    "        self.last = last\n",
    "    \n",
    "class Student(Person):\n",
    "        \n",
    "    def __init__(self, first, last, studentID, scores):\n",
    "        super().__init__(first, last)\n",
    "        self.studentID = studentID\n",
    "        self.scores = scores\n",
    "        \n",
    "    def grade(self):\n",
    "        totalPts = 0\n",
    "        for s in range(len(self.scores)):\n",
    "            totalPts += self.scores[s]\n",
    "            \n",
    "        average = totalPts/len(self.scores)\n",
    "        if average >= 90:\n",
    "            self.grade = \"A\"\n",
    "        elif 80 <= average <90:\n",
    "            self.grade = \"B\"\n",
    "        elif 70 <= average <80:\n",
    "            self.grade = \"C\"\n",
    "        elif 60 <= average <70:\n",
    "            self.grade = \"D\"\n",
    "        else:\n",
    "            self.grade = \"F\"\n",
    "                           \n",
    "        return self.grade\n",
    "\n",
    "p1 = Person(\"Buffy\", \"Summers\")\n",
    "p2 = Person(\"Kathryn\", \"Janeway\")\n",
    "s1 = Student(\"James\", \"Kirk\", 1701, [95, 90, 76, 92])\n",
    "s2 = Student(\"Happy\", \"Sloth\", 2099, [67, 100, 73, 75])\n",
    "\n",
    "print(s1.grade())\n",
    "print(s2.grade())"
   ]
  },
  {
   "cell_type": "code",
   "execution_count": null,
   "metadata": {},
   "outputs": [],
   "source": []
  }
 ],
 "metadata": {
  "kernelspec": {
   "display_name": "Python 3",
   "language": "python",
   "name": "python3"
  },
  "language_info": {
   "codemirror_mode": {
    "name": "ipython",
    "version": 3
   },
   "file_extension": ".py",
   "mimetype": "text/x-python",
   "name": "python",
   "nbconvert_exporter": "python",
   "pygments_lexer": "ipython3",
   "version": "3.8.5"
  }
 },
 "nbformat": 4,
 "nbformat_minor": 4
}
