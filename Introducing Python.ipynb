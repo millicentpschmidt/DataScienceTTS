{
 "cells": [
  {
   "cell_type": "markdown",
   "metadata": {},
   "source": [
    "# Introducing Python\n",
    " [Getting Started With Github](./Getting%20Started%20with%20Git%20Hub.ipynb) | [Anaconda](./Anaconda.ipynb) | [Jupyer Notebook](./Jupyter%20Notebook.ipynb) |[Data Science](./Data%20Science.ipynb) | [Introducing Python](./Introducing%20Python.ipynb) | [Homework01](./Homework%2001.ipynb)\n",
    "\n",
    "***"
   ]
  },
  {
   "cell_type": "markdown",
   "metadata": {},
   "source": [
    "### What is Python?"
   ]
  },
  {
   "cell_type": "markdown",
   "metadata": {},
   "source": [
    "Python is an interpreted, object-oriented, high-level programming language. Python is one of the most widely used programming languages, and it has been around for more than 28 years now. Python is designed to be very similiar to the nglish language and therefore simple to read and write. The point that it’s not a complex language is important. The designers placed less of an emphasis on conventional syntax, which makes it easier to work with, even for non-programmers or developers.\n",
    "\n",
    "Furthermore, because it’s considered truly universal and used to meet various development needs, it’s a language that offers a lot of options to programmers in general. The language is used for system operations, web development, server and administrative tools, deployment, scientific modeling and much more."
   ]
  },
  {
   "cell_type": "markdown",
   "metadata": {},
   "source": [
    "### Python Vernacular"
   ]
  },
  {
   "cell_type": "markdown",
   "metadata": {},
   "source": [
    "A **LIBRARY** is anything that is not an application - in python, a library is a module - usually with submodules. The scope of a library is quite variable - for example the python standard library is vast (with quite a few submodules) while there are lots of single purpose libraries in the PyPi.\n",
    "\n",
    "A **PACKAGE** is a collection of python modules under a common namespace. In practice one is created by placing multiple python modules in a directory with a special init.py module (file).\n",
    "\n",
    "A **MODULE** is a single file of python code that is meant to be imported. This is a bit of a simplification since in practice quite a few modules detect when they are run as script and do something special in that case. It's used if you want to use a handy function that you’ve written in several programs without copying its definition into each program.\n",
    "\n",
    "A **SCRIPT** is a single file of python code that is meant to be executed as the 'main' program.\n",
    "\n",
    "If you have a set of code that spans multiple files, you probably have an **APPLICATION** instead of script.\n",
    "\n",
    "**PIP** is a de facto standard package-management system used to install and manage software packages written in Python. The name was created by Bicking himself, the name is an acronym for \"Pip Installs Packages\"."
   ]
  },
  {
   "cell_type": "markdown",
   "metadata": {},
   "source": [
    "## Basic Python Syntax "
   ]
  },
  {
   "cell_type": "code",
   "execution_count": 1,
   "metadata": {},
   "outputs": [
    {
     "name": "stdout",
     "output_type": "stream",
     "text": [
      "Introducing Python\n"
     ]
    }
   ],
   "source": [
    "print(\"Introducing Python\")"
   ]
  },
  {
   "cell_type": "markdown",
   "metadata": {},
   "source": [
    "This Python program contains one command ( formally called a function), `print(\"Welcome to Python\")`. This command causes the words Welcome to Python (without the quotes) to be added to the program's output. Print your own sentence below. "
   ]
  },
  {
   "cell_type": "markdown",
   "metadata": {},
   "source": [
    "What do you think the following code will output?   \n",
    "`print(\"Welcome to Class\") \n",
    "print (\"Happy New year!\")`  \n",
    "Now try it."
   ]
  },
  {
   "cell_type": "markdown",
   "metadata": {},
   "source": [
    "The commands run one at a time, from the top to the bottom, and attaches new text to the end of the output as they go.\n",
    "\n",
    "The `print()` command in Python also adds a line break every time it prints something."
   ]
  },
  {
   "cell_type": "markdown",
   "metadata": {},
   "source": [
    "## Lecture Notes (*You need to fill out everything below*)"
   ]
  },
  {
   "cell_type": "markdown",
   "metadata": {},
   "source": [
    "Define a variable in python in your own words"
   ]
  },
  {
   "cell_type": "markdown",
   "metadata": {},
   "source": [
    "Write a code example of a the variable x being assigned to a string, y being assigned to a float, and z being assigned to an integer. Print all 3 in one line all together seperated by a space.  "
   ]
  },
  {
   "cell_type": "markdown",
   "metadata": {},
   "source": [
    "Add a comment to your code above. "
   ]
  },
  {
   "cell_type": "markdown",
   "metadata": {},
   "source": [
    "Assign the variable A to a string and assign variable a to an integer. Print both in 2 seperate lines. Explain what this teaches you. "
   ]
  },
  {
   "cell_type": "markdown",
   "metadata": {},
   "source": [
    "What are the rules for variable names? "
   ]
  },
  {
   "cell_type": "markdown",
   "metadata": {},
   "source": [
    "Give an example of 3 correctly formatted variable names and 3 incorrectly formatted variable names."
   ]
  },
  {
   "cell_type": "code",
   "execution_count": 6,
   "metadata": {},
   "outputs": [
    {
     "name": "stdout",
     "output_type": "stream",
     "text": [
      "Orange\n",
      "Banana\n",
      "Cherry\n"
     ]
    }
   ],
   "source": [
    "# Pyhton allows for you to assign multiple variable at once as well \n",
    "x, y, z = \"Orange\", \"Banana\", \"Cherry\"\n",
    "print(x)\n",
    "print(y)\n",
    "print(z)"
   ]
  },
  {
   "cell_type": "markdown",
   "metadata": {},
   "source": [
    "Print the data types of 3 of the variable you have already created "
   ]
  },
  {
   "cell_type": "markdown",
   "metadata": {},
   "source": [
    "Create a table that has the column headers Data Type, Example, Description. In the table fill out the columns for a string, integer, float, and complex. "
   ]
  },
  {
   "cell_type": "code",
   "execution_count": 8,
   "metadata": {},
   "outputs": [
    {
     "name": "stdout",
     "output_type": "stream",
     "text": [
      "5.0\n",
      "3\n",
      "(5+0j)\n",
      "<class 'float'>\n",
      "<class 'int'>\n",
      "<class 'complex'>\n"
     ]
    }
   ],
   "source": [
    "#You can convert from one type to another with the int(), float(), and complex() methods:\n",
    "x = 5    # int\n",
    "y = 3.14  # float\n",
    "z = 4j   # complex\n",
    "\n",
    "#convert from int to float:\n",
    "a = float(x)\n",
    "\n",
    "#convert from float to int:\n",
    "b = int(y)\n",
    "\n",
    "#convert from int to complex:\n",
    "c = complex(x)\n",
    "\n",
    "print(a)\n",
    "print(b)\n",
    "print(c)\n",
    "\n",
    "print(type(a))\n",
    "print(type(b))\n",
    "print(type(c))"
   ]
  },
  {
   "cell_type": "markdown",
   "metadata": {},
   "source": [
    "<div class=\"alert alert-block alert-warning\">\n",
    "<b>Note:</b> You cannot convert complex numbers into another number type.\n",
    "</div>"
   ]
  },
  {
   "cell_type": "markdown",
   "metadata": {},
   "source": [
    "Python does not have a `random()` function to make a random number, but Python has a built-in module called `random` that can be used to make random numbers:"
   ]
  },
  {
   "cell_type": "code",
   "execution_count": 10,
   "metadata": {},
   "outputs": [
    {
     "name": "stdout",
     "output_type": "stream",
     "text": [
      "25\n"
     ]
    }
   ],
   "source": [
    "import random\n",
    "\n",
    "print(random.randrange(1, 50))"
   ]
  },
  {
   "cell_type": "markdown",
   "metadata": {},
   "source": [
    "There may be times when you need to specify a type on to a variable. This can be done with casting. Python is an object-orientated language, and as such it uses classes to define data types, including its primitive types.\n",
    "\n",
    "Casting in python is therefore done using constructor functions:\n",
    "\n",
    "- `int()` - constructs an integer number from an integer literal, a float literal (by rounding down to the previous whole number), or a string literal (providing the string represents a whole number) <br>\n",
    "- `float()` - constructs a float number from an integer literal, a float literal or a string literal (providing the string represents a float or an integer) <br>\n",
    "- `str()` - constructs a string from a wide variety of data types, including strings, integer literals and float literals <br>"
   ]
  },
  {
   "cell_type": "code",
   "execution_count": 17,
   "metadata": {},
   "outputs": [
    {
     "name": "stdout",
     "output_type": "stream",
     "text": [
      "1 2 3 1.0 2.8 3.0 4.2 s1 2 3.0\n"
     ]
    }
   ],
   "source": [
    "a = int(1)   # x will be 1\n",
    "b = int(2.8) # y will be 2\n",
    "c = int(\"3\") # z will be 3\n",
    "d = float(1)     # x will be 1.0\n",
    "e = float(2.8)   # y will be 2.8\n",
    "f = float(\"3\")   # z will be 3.0\n",
    "g = float(\"4.2\") # w will be 4.2\n",
    "h = str(\"s1\") # x will be 's1'\n",
    "i = str(2)    # y will be '2'\n",
    "j = str(3.0)  # z will be '3.0'\n",
    "print ( a, b, c, d, e, f, g, h, i, j)    "
   ]
  },
  {
   "cell_type": "markdown",
   "metadata": {},
   "source": [
    "Using the variables above, show me example of addition, subtraction, division, exponentiation, and modulus. "
   ]
  },
  {
   "cell_type": "markdown",
   "metadata": {},
   "source": [
    "Pyhton has many other built in function like `print()` and we will continously learn about more. The next one is the `input()` function.  Which allows user input. The syntax is input(*prompt*)."
   ]
  },
  {
   "cell_type": "code",
   "execution_count": 18,
   "metadata": {},
   "outputs": [
    {
     "name": "stdout",
     "output_type": "stream",
     "text": [
      "Enter your name:\n",
      "Marissa \n",
      "Hello, Marissa \n"
     ]
    }
   ],
   "source": [
    "# Run this code \n",
    "print('Enter your name:')\n",
    "x = input()\n",
    "print('Hello, ' + x)"
   ]
  }
 ],
 "metadata": {
  "kernelspec": {
   "display_name": "Python 3",
   "language": "python",
   "name": "python3"
  },
  "language_info": {
   "codemirror_mode": {
    "name": "ipython",
    "version": 3
   },
   "file_extension": ".py",
   "mimetype": "text/x-python",
   "name": "python",
   "nbconvert_exporter": "python",
   "pygments_lexer": "ipython3",
   "version": "3.7.1"
  }
 },
 "nbformat": 4,
 "nbformat_minor": 4
}
