{
 "cells": [
  {
   "cell_type": "code",
   "execution_count": null,
   "metadata": {},
   "outputs": [],
   "source": [
    "#final code that passed all the test cases\n",
    "\n",
    "import math\n",
    "\n",
    "class Complex(object):\n",
    "    def __init__(self, real, imaginary):\n",
    "        self.real = real\n",
    "        self.imaginary = imaginary\n",
    "\n",
    "    def __add__(self, d):\n",
    "        return Complex(self.real+d.real, self.imaginary+d.imaginary)\n",
    "    \n",
    "    def __sub__(self, d):\n",
    "        return Complex(self.real-d.real, self.imaginary-d.imaginary)\n",
    "    \n",
    "    def __mul__(self, d):\n",
    "        return Complex((self.real * d.real - self.imaginary * d.imaginary), (self.imaginary * d.real + self.real * d.imaginary))\n",
    "    \n",
    "    def __truediv__(self, d):\n",
    "        return Complex((self.real * d.real + self.imaginary * d.imaginary) / (d.real ** 2 + d.imaginary ** 2), (self.imaginary * d.real - self.real * d.imaginary) / (d.real ** 2 + d.imaginary ** 2))\n",
    "    \n",
    "    def mod(self):\n",
    "        return Complex((self.real ** 2 + self.imaginary ** 2) ** 0.5, 0)\n",
    "    \n",
    "    def __str__(self):\n",
    "        if self.imaginary == 0:\n",
    "            result = \"%.2f+0.00i\" % (self.real)\n",
    "        elif self.real == 0:\n",
    "            if self.imaginary >= 0:\n",
    "                result = \"0.00+%.2fi\" % (self.imaginary)\n",
    "            else:\n",
    "                result = \"0.00-%.2fi\" % (abs(self.imaginary))\n",
    "        elif self.imaginary > 0:\n",
    "            result = \"%.2f+%.2fi\" % (self.real, self.imaginary)\n",
    "        else:\n",
    "            result = \"%.2f-%.2fi\" % (self.real, abs(self.imaginary))\n",
    "        return result\n",
    "\n",
    "if __name__ == '__main__':\n",
    "    c = map(float, input().split())\n",
    "    d = map(float, input().split())\n",
    "    x = Complex(*c)\n",
    "    y = Complex(*d)\n",
    "    print(*map(str, [x+y, x-y, x*y, x/y, x.mod(), y.mod()]), sep='\\n')"
   ]
  }
 ],
 "metadata": {
  "kernelspec": {
   "display_name": "Python 3",
   "language": "python",
   "name": "python3"
  },
  "language_info": {
   "codemirror_mode": {
    "name": "ipython",
    "version": 3
   },
   "file_extension": ".py",
   "mimetype": "text/x-python",
   "name": "python",
   "nbconvert_exporter": "python",
   "pygments_lexer": "ipython3",
   "version": "3.8.5"
  }
 },
 "nbformat": 4,
 "nbformat_minor": 4
}
