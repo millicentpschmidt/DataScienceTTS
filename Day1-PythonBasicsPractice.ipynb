{
 "cells": [
  {
   "cell_type": "markdown",
   "metadata": {},
   "source": [
    "# Day 1 Python Basics Assignments"
   ]
  },
  {
   "cell_type": "markdown",
   "metadata": {},
   "source": [
    "## Question 1: Accept the user's first and last name and print them in reverse order with a space between them"
   ]
  },
  {
   "cell_type": "code",
   "execution_count": 1,
   "metadata": {},
   "outputs": [
    {
     "name": "stdout",
     "output_type": "stream",
     "text": [
      "What is your first/given name?\n",
      "zaphod\n",
      "What is your last/family name?\n",
      "beeblebrox\n",
      "Your name is beeblebrox zaphod\n"
     ]
    }
   ],
   "source": [
    "print(\"What is your first/given name?\")\n",
    "first = input()\n",
    "print(\"What is your last/family name?\")\n",
    "last = input()\n",
    "print(\"Your name is \" + last + \" \" + first)"
   ]
  },
  {
   "cell_type": "markdown",
   "metadata": {},
   "source": [
    "## Question 2: Accept an integer (n) and compute the value of n+nn+nnn"
   ]
  },
  {
   "cell_type": "code",
   "execution_count": 2,
   "metadata": {},
   "outputs": [
    {
     "name": "stdout",
     "output_type": "stream",
     "text": [
      "Tell me a number:\n",
      "1\n",
      "Do you want to know n + nn + nnn?\n",
      "I hope so!\n",
      "n + nn + nnn = 3\n"
     ]
    }
   ],
   "source": [
    "print(\"Tell me a number:\")\n",
    "n = input()\n",
    "n = int(n)\n",
    "print(\"Do you want to know n + nn + nnn?\")\n",
    "print(\"I hope so!\")\n",
    "n = n +  n * n  +  n * n * n\n",
    "print(\"n + nn + nnn = \" + str(n))"
   ]
  },
  {
   "cell_type": "markdown",
   "metadata": {},
   "source": [
    "## Question 3: Ask the user \"What country are you from?\" then print the following statement: \"I have heard that [input] is a beautiful country!\""
   ]
  },
  {
   "cell_type": "code",
   "execution_count": 3,
   "metadata": {},
   "outputs": [
    {
     "name": "stdout",
     "output_type": "stream",
     "text": [
      "What country are you from?\n",
      "Croatia\n",
      "I've heard that Croatia is a beautiful country!\n"
     ]
    }
   ],
   "source": [
    "print(\"What country are you from?\")\n",
    "country = input()\n",
    "print(\"I've heard that \" + country + \" is a beautiful country!\")"
   ]
  },
  {
   "cell_type": "markdown",
   "metadata": {},
   "source": [
    "## Question 4: What is the output of x AND explain why that is the output for: x = 36 / 4 * (3 +  2) * 4 + 2"
   ]
  },
  {
   "cell_type": "code",
   "execution_count": 4,
   "metadata": {},
   "outputs": [
    {
     "name": "stdout",
     "output_type": "stream",
     "text": [
      "36 / 4 * (3 + 2) * 4 + 2 = 182.0\n",
      "Beacuase the order of operations is PEMDAS (parentheses, exponents, \n",
      "multiplication-division, addition, adnd subtraction)\n"
     ]
    }
   ],
   "source": [
    "x = 36 / 4 * (3 + 2) * 4 + 2\n",
    "x = str(x)\n",
    "print(\"36 / 4 * (3 + 2) * 4 + 2 = \" + x)\n",
    "print(\"Beacuase the order of operations is PEMDAS (parentheses, exponents, \")\n",
    "print(\"multiplication-division, addition, adnd subtraction)\")"
   ]
  },
  {
   "cell_type": "markdown",
   "metadata": {},
   "source": [
    "## Question 5: Is a string immutable in python?"
   ]
  },
  {
   "cell_type": "code",
   "execution_count": 5,
   "metadata": {},
   "outputs": [
    {
     "name": "stdout",
     "output_type": "stream",
     "text": [
      "Yes, a string is immutable in python because it can't be appended after it's creation.\n",
      "Variables can be reassigned, but in that case the pointer is just pointing to a new object.\n",
      "The original string was not changed.\n",
      "For Example:\n",
      "Let's point the variable 'box' to a string of your choosing\n",
      "hello world\n",
      "You pointed box to hello world\n",
      "But I can point 'box' to 'I am a jelly doughnut'.\n",
      "Now 'box' points to I am a jelly doughnut\n",
      "Your original phrase was not altered.\n"
     ]
    }
   ],
   "source": [
    "print(\"Yes, a string is immutable in python because it can't be appended after it's creation.\")\n",
    "print(\"Variables can be reassigned, but in that case the pointer is just pointing to a new object.\")\n",
    "print(\"The original string was not changed.\")\n",
    "print(\"For Example:\")\n",
    "print(\"Let's point the variable 'box' to a string of your choosing\")\n",
    "box = input()\n",
    "print(\"You pointed box to \" + box)\n",
    "print(\"But I can point 'box' to 'I am a jelly doughnut'.\")\n",
    "box = \"I am a jelly doughnut\"\n",
    "print(\"Now 'box' points to \" + box)\n",
    "print(\"Your original phrase was not altered.\")"
   ]
  },
  {
   "cell_type": "code",
   "execution_count": null,
   "metadata": {},
   "outputs": [],
   "source": []
  }
 ],
 "metadata": {
  "kernelspec": {
   "display_name": "Python 3",
   "language": "python",
   "name": "python3"
  },
  "language_info": {
   "codemirror_mode": {
    "name": "ipython",
    "version": 3
   },
   "file_extension": ".py",
   "mimetype": "text/x-python",
   "name": "python",
   "nbconvert_exporter": "python",
   "pygments_lexer": "ipython3",
   "version": "3.8.5"
  }
 },
 "nbformat": 4,
 "nbformat_minor": 4
}
