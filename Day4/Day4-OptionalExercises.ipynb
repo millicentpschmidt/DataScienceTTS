{
 "cells": [
  {
   "cell_type": "markdown",
   "metadata": {},
   "source": [
    "# Day 4: Optional Exercises"
   ]
  },
  {
   "cell_type": "markdown",
   "metadata": {},
   "source": [
    "## Optional Exercise\n",
    "\n",
    "Iterate over a list of over 10 numbers. This list is made from user input, and might not have 10 numbers in it. After you reach the end of the list, make the rest of the numbers to be interpreted as a 0"
   ]
  },
  {
   "cell_type": "code",
   "execution_count": 2,
   "metadata": {},
   "outputs": [
    {
     "name": "stdout",
     "output_type": "stream",
     "text": [
      "0\n",
      "3\n",
      "5\n",
      "9\n",
      "0\n",
      "0\n",
      "0\n",
      "0\n",
      "0\n",
      "0\n"
     ]
    }
   ],
   "source": [
    "def printItem(n):\n",
    "    print(n)\n",
    "    \n",
    "L1 = [0,3,5,9]\n",
    "\n",
    "def listTooShort():\n",
    "    for i in range(10):\n",
    "        try:\n",
    "            printItem(L1[i])\n",
    "        except IndexError:\n",
    "            printItem(0)\n",
    "\n",
    "listTooShort()"
   ]
  },
  {
   "cell_type": "markdown",
   "metadata": {},
   "source": [
    "## Optional Exercise\n",
    "Try to access an array element whose index is out of bound and handle the corresponding exception. Write the Python program to handle simple runtime error."
   ]
  },
  {
   "cell_type": "code",
   "execution_count": 5,
   "metadata": {},
   "outputs": [
    {
     "name": "stdout",
     "output_type": "stream",
     "text": [
      "The first item is 12\n",
      "The second item is 13\n",
      "The third item is 99\n",
      "You have an error with the number of items in your list.\n"
     ]
    }
   ],
   "source": [
    "L2 = [12, 13, 99]\n",
    "\n",
    "try:\n",
    "    print(\"The first item is %d\" %(L2[0]))\n",
    "    print(\"The second item is %d\" %(L2[1]))\n",
    "    print(\"The third item is %d\" %(L2[2]))\n",
    "    print(\"The fourth item is %d\" %(L2[3]))\n",
    "except IndexError:\n",
    "    print(\"You have an error with the number of items in your list.\")"
   ]
  },
  {
   "cell_type": "code",
   "execution_count": 8,
   "metadata": {},
   "outputs": [
    {
     "name": "stdout",
     "output_type": "stream",
     "text": [
      "5 100 125 "
     ]
    }
   ],
   "source": [
    "L3 = [1, 5, 23, 99, 100, 125, 162]\n",
    "\n",
    "for item in L3:\n",
    "    if (item > 150):\n",
    "        break\n",
    "    if  (item % 5 == 0):\n",
    "        print(item, end = \" \")"
   ]
  },
  {
   "cell_type": "code",
   "execution_count": null,
   "metadata": {},
   "outputs": [],
   "source": []
  }
 ],
 "metadata": {
  "kernelspec": {
   "display_name": "Python 3",
   "language": "python",
   "name": "python3"
  },
  "language_info": {
   "codemirror_mode": {
    "name": "ipython",
    "version": 3
   },
   "file_extension": ".py",
   "mimetype": "text/x-python",
   "name": "python",
   "nbconvert_exporter": "python",
   "pygments_lexer": "ipython3",
   "version": "3.8.5"
  }
 },
 "nbformat": 4,
 "nbformat_minor": 4
}
