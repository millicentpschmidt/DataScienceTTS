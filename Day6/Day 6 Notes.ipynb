{
 "cells": [
  {
   "cell_type": "markdown",
   "metadata": {},
   "source": [
    "# Day 6 Notes"
   ]
  },
  {
   "cell_type": "markdown",
   "metadata": {},
   "source": [
    "## re Module Video Notes\n",
    "[re Module: How to Write and Match regular Expressions from Corey Shafer](https://www.youtube.com/watch?v=K8L6KVGG-7o)\n",
    "\n",
    " - used to search patterns of text\n",
    " - raw string--tells python not to handle back slashes in any special way; forces a literal interpretation\n",
    "     - put and r in front\n",
    " - "
   ]
  },
  {
   "cell_type": "code",
   "execution_count": 26,
   "metadata": {},
   "outputs": [
    {
     "name": "stdout",
     "output_type": "stream",
     "text": [
      "<re.Match object; span=(1, 4), match='abc'>\n"
     ]
    }
   ],
   "source": [
    "import re\n",
    "\n",
    "text_to_search = '''\n",
    "abcdefghijklmnopqrstuvwxyz\n",
    "ABCDEFGHIJKLMNOPQRSTUVWXYZ\n",
    "0123456789\n",
    "\n",
    "Ha HaHa\n",
    "\n",
    "MetaCharacters (need to be escaped):\n",
    ". ^ $ * + ? { } [ ] \\ | ( )\n",
    "\n",
    "coreyms.com\n",
    "\n",
    "631-495-9994\n",
    "(631)504-7316\n",
    "631.415.7095\n",
    "800.415.7095\n",
    "900.415.7095\n",
    "\n",
    "Dr. Schmidt\n",
    "Dr. Young, young.caitlin.rose@gmail.com\n",
    "Mr. Alquaddoomi, kalquaddoomi@gmail.com\n",
    "Dr Wolfe, rwolfe@tulane.edu\n",
    "Dr. A\n",
    "Mr Lilly\n",
    "Ms. Z\n",
    "Mme Nelson, vnelson@nocca.com\n",
    "Mrs. Tilling, atilling@nocca.com\n",
    "\n",
    "cat\n",
    "pat\n",
    "mat\n",
    "bat\n",
    "'''\n",
    "\n",
    "sentence = 'Start a sentence and then bring it to an end'\n",
    "\n",
    "pattern = re.compile(r'abc')\n",
    "\n",
    "matches = pattern.finditer(text_to_search)\n",
    "\n",
    "for match in matches:\n",
    "    print(match)"
   ]
  },
  {
   "cell_type": "code",
   "execution_count": 2,
   "metadata": {},
   "outputs": [
    {
     "name": "stdout",
     "output_type": "stream",
     "text": [
      "abc\n"
     ]
    }
   ],
   "source": [
    "print(text_to_search[1:4])"
   ]
  },
  {
   "cell_type": "code",
   "execution_count": 3,
   "metadata": {},
   "outputs": [
    {
     "name": "stdout",
     "output_type": "stream",
     "text": [
      "<re.Match object; span=(113, 114), match='.'>\n",
      "<re.Match object; span=(149, 150), match='.'>\n",
      "<re.Match object; span=(185, 186), match='.'>\n",
      "<re.Match object; span=(189, 190), match='.'>\n",
      "<re.Match object; span=(198, 199), match='.'>\n",
      "<re.Match object; span=(210, 211), match='.'>\n",
      "<re.Match object; span=(220, 221), match='.'>\n",
      "<re.Match object; span=(236, 237), match='.'>\n",
      "<re.Match object; span=(246, 247), match='.'>\n",
      "<re.Match object; span=(263, 264), match='.'>\n"
     ]
    }
   ],
   "source": [
    "# pattern = re.compile(r'.')    can't just search for a period, metacharacters need a backslash before them\n",
    "\n",
    "pattern = re.compile(r'\\.')\n",
    "matches = pattern.finditer(text_to_search)\n",
    "\n",
    "for match in matches:\n",
    "    print(match)"
   ]
  },
  {
   "cell_type": "markdown",
   "metadata": {},
   "source": [
    "Patterns for searching\n",
    " - .     Any character except a new line \\n\n",
    " - \\d    Digit (0-9)\\n\n",
    " - \\D    Not a digit (0-9)\n",
    " - \\w    Word character (a-z, A-Z, 0-9, _)\n",
    " - \\W    Not a word character\n",
    " - \\s    Whitespace (space, tab, newline)\n",
    " - \\S    Not whitespace\n",
    "\n",
    "Anchors (don't match characters)\n",
    " - \\b    Word boundary\n",
    " - \\B    Not a word boundary\n",
    " - ^     Beginning of a string\n",
    " - $     End of a string\n",
    "\n",
    " - []    Matches characters in brackets\n",
    " - [^ ]  Matches characters not in brackets\n",
    " - |     Either Or\n",
    " - ( )   Group\n",
    " \n",
    "Quantifiers\n",
    " - *     0 or more\n",
    " - +     1 or more\n",
    " - ?     0 or 1\n",
    " - {3}   Exact number\n",
    " - {3,5} Range of numbers (Min, Max)\n",
    " "
   ]
  },
  {
   "cell_type": "code",
   "execution_count": 4,
   "metadata": {},
   "outputs": [
    {
     "name": "stdout",
     "output_type": "stream",
     "text": [
      "<re.Match object; span=(155, 167), match='631-495-9994'>\n",
      "<re.Match object; span=(169, 181), match='631)504-7316'>\n",
      "<re.Match object; span=(182, 194), match='631.415.7095'>\n"
     ]
    }
   ],
   "source": [
    "pattern = re.compile(r'\\d\\d\\d.\\d\\d\\d.\\d\\d\\d\\d')\n",
    "\n",
    "matches = pattern.finditer(text_to_search)\n",
    "\n",
    "for match in matches:\n",
    "    print(match)"
   ]
  },
  {
   "cell_type": "markdown",
   "metadata": {},
   "source": [
    "stopped @ 17:10"
   ]
  },
  {
   "cell_type": "code",
   "execution_count": 5,
   "metadata": {},
   "outputs": [
    {
     "name": "stdout",
     "output_type": "stream",
     "text": [
      "<re.Match object; span=(155, 167), match='631-495-9994'>\n",
      "<re.Match object; span=(182, 194), match='631.415.7095'>\n"
     ]
    }
   ],
   "source": [
    "# use this to find phone numbers that only have . or -\n",
    "pattern = re.compile(r'\\d\\d\\d[-.]\\d\\d\\d[-.]\\d\\d\\d\\d') # don't have to escape the dot in this, still only matches 1 char\n",
    "\n",
    "matches = pattern.finditer(text_to_search)\n",
    "\n",
    "for match in matches:\n",
    "    print(match)"
   ]
  },
  {
   "cell_type": "code",
   "execution_count": 7,
   "metadata": {},
   "outputs": [
    {
     "name": "stdout",
     "output_type": "stream",
     "text": [
      "<re.Match object; span=(195, 207), match='800.415.7095'>\n",
      "<re.Match object; span=(208, 220), match='900.415.7095'>\n"
     ]
    }
   ],
   "source": [
    "# use this to only look for 800 or 900 numbers\n",
    "pattern = re.compile(r'[89]00[-.]\\d\\d\\d[-.]\\d\\d\\d\\d')\n",
    "\n",
    "matches = pattern.finditer(text_to_search)\n",
    "\n",
    "for match in matches:\n",
    "    print(match)"
   ]
  },
  {
   "cell_type": "code",
   "execution_count": 9,
   "metadata": {},
   "outputs": [
    {
     "name": "stdout",
     "output_type": "stream",
     "text": [
      "<re.Match object; span=(56, 57), match='1'>\n",
      "<re.Match object; span=(57, 58), match='2'>\n",
      "<re.Match object; span=(58, 59), match='3'>\n",
      "<re.Match object; span=(59, 60), match='4'>\n",
      "<re.Match object; span=(60, 61), match='5'>\n",
      "<re.Match object; span=(156, 157), match='3'>\n",
      "<re.Match object; span=(157, 158), match='1'>\n",
      "<re.Match object; span=(159, 160), match='4'>\n",
      "<re.Match object; span=(161, 162), match='5'>\n",
      "<re.Match object; span=(166, 167), match='4'>\n",
      "<re.Match object; span=(170, 171), match='3'>\n",
      "<re.Match object; span=(171, 172), match='1'>\n",
      "<re.Match object; span=(173, 174), match='5'>\n",
      "<re.Match object; span=(175, 176), match='4'>\n",
      "<re.Match object; span=(178, 179), match='3'>\n",
      "<re.Match object; span=(179, 180), match='1'>\n",
      "<re.Match object; span=(183, 184), match='3'>\n",
      "<re.Match object; span=(184, 185), match='1'>\n",
      "<re.Match object; span=(186, 187), match='4'>\n",
      "<re.Match object; span=(187, 188), match='1'>\n",
      "<re.Match object; span=(188, 189), match='5'>\n",
      "<re.Match object; span=(193, 194), match='5'>\n",
      "<re.Match object; span=(199, 200), match='4'>\n",
      "<re.Match object; span=(200, 201), match='1'>\n",
      "<re.Match object; span=(201, 202), match='5'>\n",
      "<re.Match object; span=(206, 207), match='5'>\n",
      "<re.Match object; span=(212, 213), match='4'>\n",
      "<re.Match object; span=(213, 214), match='1'>\n",
      "<re.Match object; span=(214, 215), match='5'>\n",
      "<re.Match object; span=(219, 220), match='5'>\n"
     ]
    }
   ],
   "source": [
    "# use this to find numbers in a range (between 1-5)\n",
    "pattern = re.compile(r'[1-5]')\n",
    "\n",
    "matches = pattern.finditer(text_to_search)\n",
    "\n",
    "for match in matches:\n",
    "    print(match)"
   ]
  },
  {
   "cell_type": "code",
   "execution_count": 12,
   "metadata": {},
   "outputs": [
    {
     "name": "stdout",
     "output_type": "stream",
     "text": [
      "<re.Match object; span=(298, 301), match='cat'>\n",
      "<re.Match object; span=(302, 305), match='pat'>\n",
      "<re.Match object; span=(306, 309), match='mat'>\n"
     ]
    }
   ],
   "source": [
    "# use this to find all words ending in 'at' excluding bat\n",
    "pattern = re.compile(r'[^b]at')\n",
    "\n",
    "matches = pattern.finditer(text_to_search)\n",
    "\n",
    "for match in matches:\n",
    "    print(match)"
   ]
  },
  {
   "cell_type": "code",
   "execution_count": 13,
   "metadata": {},
   "outputs": [
    {
     "name": "stdout",
     "output_type": "stream",
     "text": [
      "<re.Match object; span=(155, 167), match='631-495-9994'>\n",
      "<re.Match object; span=(169, 181), match='631)504-7316'>\n",
      "<re.Match object; span=(182, 194), match='631.415.7095'>\n",
      "<re.Match object; span=(195, 207), match='800.415.7095'>\n",
      "<re.Match object; span=(208, 220), match='900.415.7095'>\n"
     ]
    }
   ],
   "source": [
    "# use this to find all phone numbers using quantifiers to tell the search how many digits you are looking for\n",
    "pattern = re.compile(r'\\d{3}.\\d{3}.\\d{4}')\n",
    "\n",
    "matches = pattern.finditer(text_to_search)\n",
    "\n",
    "for match in matches:\n",
    "    print(match)"
   ]
  },
  {
   "cell_type": "code",
   "execution_count": 19,
   "metadata": {},
   "outputs": [
    {
     "name": "stdout",
     "output_type": "stream",
     "text": [
      "<re.Match object; span=(222, 233), match='Dr. Schmidt'>\n",
      "<re.Match object; span=(234, 243), match='Dr. Young'>\n",
      "<re.Match object; span=(260, 268), match='Dr Wolfe'>\n",
      "<re.Match object; span=(269, 274), match='Dr. A'>\n"
     ]
    }
   ],
   "source": [
    "# use this to find all the names with a title in front\n",
    "# pattern = re.compile(r'Dr\\.?\\s[A-Z]\\w+') # won't get Dr. A\n",
    "pattern = re.compile(r'Dr\\.?\\s[A-Z]\\w*')\n",
    "\n",
    "matches = pattern.finditer(text_to_search)\n",
    "\n",
    "for match in matches:\n",
    "    print(match)"
   ]
  },
  {
   "cell_type": "code",
   "execution_count": 24,
   "metadata": {},
   "outputs": [
    {
     "name": "stdout",
     "output_type": "stream",
     "text": [
      "<re.Match object; span=(244, 259), match='Mr. Alquaddoomi'>\n",
      "<re.Match object; span=(275, 283), match='Mr Lilly'>\n",
      "<re.Match object; span=(290, 300), match='Mme Nelson'>\n",
      "<re.Match object; span=(301, 313), match='Mrs. Tilling'>\n"
     ]
    }
   ],
   "source": [
    "# use this to find all the names with a group of titles\n",
    "# pattern = re.compile(r'M(r|s|z|rs|me)\\.?\\s[A-Z]\\w+') # does the same as the next line\n",
    "pattern = re.compile(r'(Mr|Ms|Mz|Mrs|Mme)\\.?\\s[A-Z]\\w+')\n",
    "\n",
    "matches = pattern.finditer(text_to_search)\n",
    "\n",
    "for match in matches:\n",
    "    print(match)"
   ]
  },
  {
   "cell_type": "code",
   "execution_count": 33,
   "metadata": {},
   "outputs": [
    {
     "name": "stdout",
     "output_type": "stream",
     "text": [
      "<re.Match object; span=(245, 273), match='young.caitlin.rose@gmail.com'>\n",
      "<re.Match object; span=(291, 313), match='kalquaddoomi@gmail.com'>\n",
      "<re.Match object; span=(324, 341), match='rwolfe@tulane.edu'>\n",
      "<re.Match object; span=(375, 392), match='vnelson@nocca.com'>\n",
      "<re.Match object; span=(407, 425), match='atilling@nocca.com'>\n"
     ]
    }
   ],
   "source": [
    "# use this to find all the email addresses\n",
    "pattern = re.compile(r'[a-zA-Z0-9_.-]+@[a-zA-Z-]+\\.(com|edu|org)') #whew, these are finicky\n",
    "\n",
    "matches = pattern.finditer(text_to_search)\n",
    "\n",
    "for match in matches:\n",
    "    print(match)"
   ]
  },
  {
   "cell_type": "code",
   "execution_count": null,
   "metadata": {},
   "outputs": [],
   "source": []
  }
 ],
 "metadata": {
  "kernelspec": {
   "display_name": "Python 3",
   "language": "python",
   "name": "python3"
  },
  "language_info": {
   "codemirror_mode": {
    "name": "ipython",
    "version": 3
   },
   "file_extension": ".py",
   "mimetype": "text/x-python",
   "name": "python",
   "nbconvert_exporter": "python",
   "pygments_lexer": "ipython3",
   "version": "3.8.5"
  }
 },
 "nbformat": 4,
 "nbformat_minor": 4
}
