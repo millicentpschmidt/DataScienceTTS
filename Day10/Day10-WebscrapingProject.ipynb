{
 "cells": [
  {
   "cell_type": "markdown",
   "metadata": {},
   "source": [
    "# Day 10: Webscraping Project"
   ]
  },
  {
   "cell_type": "markdown",
   "metadata": {},
   "source": [
    "## TASK\n",
    "Find a single job posting. What HTML element is it wrapped in, and what other HTML elements does it contain?"
   ]
  },
  {
   "cell_type": "markdown",
   "metadata": {},
   "source": [
    "[Data Science Instructor Part-time Remote @ Talktime](https://www.monster.com/jobs/search/?q=data-scientist&where=New-Orleans__2C-LA&jobid=36706fe7-39d1-4c62-bc43-7691004d1581)"
   ]
  },
  {
   "cell_type": "markdown",
   "metadata": {},
   "source": [
    "div class container"
   ]
  },
  {
   "cell_type": "markdown",
   "metadata": {},
   "source": [
    "## importing the website"
   ]
  },
  {
   "cell_type": "code",
   "execution_count": 4,
   "metadata": {},
   "outputs": [],
   "source": [
    "import requests\n",
    "\n",
    "URL = 'https://www.monster.com/jobs/search/?q=data-scientist&where=New-Orleans__2C-LA'\n",
    "page = requests.get(URL)\n",
    "# print(page.content)"
   ]
  },
  {
   "cell_type": "code",
   "execution_count": 7,
   "metadata": {},
   "outputs": [],
   "source": [
    "from bs4 import BeautifulSoup"
   ]
  },
  {
   "cell_type": "code",
   "execution_count": 11,
   "metadata": {},
   "outputs": [],
   "source": [
    "soup = BeautifulSoup(page.content, 'html.parser')\n",
    "results = soup.find(id='ResultsContainer')"
   ]
  },
  {
   "cell_type": "code",
   "execution_count": 47,
   "metadata": {},
   "outputs": [],
   "source": [
    "#print(results.prettify())"
   ]
  },
  {
   "cell_type": "code",
   "execution_count": 21,
   "metadata": {},
   "outputs": [],
   "source": [
    "job_elems = results.find_all('section', class_='card-content')"
   ]
  },
  {
   "cell_type": "code",
   "execution_count": 27,
   "metadata": {},
   "outputs": [
    {
     "name": "stdout",
     "output_type": "stream",
     "text": [
      "Licensed Medicare Insurance Agent - AEP is over, sell year-round with Assurance!\r\n",
      "\n",
      "\n",
      "ASSURANCE Independent Agents\n",
      "\n",
      "\n",
      "\n",
      "\n",
      "\r\n",
      "Destrehan, LA\r\n",
      "\n",
      "\n",
      "Licensed Health Insurance Agent - Sell Medicare Full-Time, Working from Home!\r\n",
      "\n",
      "\n",
      "ASSURANCE Independent Agents\n",
      "\n",
      "\n",
      "\n",
      "\n",
      "\r\n",
      "Destrehan, LA\r\n",
      "\n",
      "\n",
      "Licensed Medicare Sales Agent - Work from Home, Full-Time Position\r\n",
      "\n",
      "\n",
      "ASSURANCE Independent Agents\n",
      "\n",
      "\n",
      "\n",
      "\n",
      "\r\n",
      "Destrehan, LA\r\n",
      "\n",
      "\n",
      "Licensed Health Insurance Agent - Remote Medicare Insurance Sales\r\n",
      "\n",
      "\n",
      "ASSURANCE Independent Agents\n",
      "\n",
      "\n",
      "\n",
      "\n",
      "\r\n",
      "Destrehan, LA\r\n",
      "\n",
      "\n",
      "Licensed Medicare Insurance Agent - Work from Home, Great Full-Time Sales Opportunity\r\n",
      "\n",
      "\n",
      "ASSURANCE Independent Agents\n",
      "\n",
      "\n",
      "\n",
      "\n",
      "\r\n",
      "Destrehan, LA\r\n",
      "\n",
      "\n",
      "Licensed Medicare Insurance Agent - Sell Insurance Remotely, Full Time\r\n",
      "\n",
      "\n",
      "ASSURANCE Independent Agents\n",
      "\n",
      "\n",
      "\n",
      "\n",
      "\r\n",
      "Destrehan, LA\r\n",
      "\n",
      "\n",
      "Licensed Medicare Insurance Agent - Year-round, Salaried Role\r\n",
      "\n",
      "\n",
      "ASSURANCE Independent Agents\n",
      "\n",
      "\n",
      "\n",
      "\n",
      "\r\n",
      "Destrehan, LA\r\n",
      "\n",
      "\n",
      "Licensed Medicare Sales Agent - Remote, Year-Round\r\n",
      "\n",
      "\n",
      "ASSURANCE Independent Agents\n",
      "\n",
      "\n",
      "\n",
      "\n",
      "\r\n",
      "Destrehan, LA\r\n",
      "\n",
      "\n",
      "Licensed Medicare Agent - Remote, Salaried Year-Round Role, Only 100 Seats\r\n",
      "\n",
      "\n",
      "ASSURANCE Independent Agents\n",
      "\n",
      "\n",
      "\n",
      "\n",
      "\r\n",
      "Destrehan, LA\r\n",
      "\n",
      "\n",
      "Data Science Instructor - Part-time - Remote - College & Grad Students\r\n",
      "\n",
      "\n",
      "Talktime\n",
      "\n",
      "\n",
      "\n",
      "\n",
      "\r\n",
      "New Orleans, LA\r\n",
      "\n",
      "\n",
      "Data Science Tutor - Part-time - Remote\r\n",
      "\n",
      "\n",
      "Talktime\n",
      "\n",
      "\n",
      "\n",
      "\n",
      "\r\n",
      "New Orleans, LA\r\n",
      "\n",
      "\n",
      "Director - Ochsner Xavier Institute for Health Equity and Research (OXIHER)\r\n",
      "\n",
      "\n",
      "Ochsner Health System\n",
      "\n",
      "\n",
      "\n",
      "\n",
      "\r\n",
      "New Orleans, LA\r\n",
      "\n",
      "\n",
      "Chief Information Officer - CIO\r\n",
      "\n",
      "\n",
      "SBP\n",
      "\n",
      "\n",
      "\n",
      "\n",
      "\r\n",
      "New Orleans, LA\r\n",
      "\n",
      "\n",
      "Construction Economist\r\n",
      "\n",
      "\n",
      "Levelset\n",
      "\n",
      "\n",
      "\n",
      "\n",
      "\r\n",
      "New Orleans, LA\r\n",
      "\n",
      "\n",
      "Senior Technical Sourcer - Product Management (Contract)\r\n",
      "\n",
      "\n",
      "Splunk\n",
      "\n",
      "\n",
      "\n",
      "\n",
      "\r\n",
      "New Orleans, LA\r\n",
      "\n",
      "\n"
     ]
    }
   ],
   "source": [
    "for job_elem in job_elems:\n",
    "    title_elem = job_elem.find('h2', class_='title')\n",
    "    company_elem = job_elem.find('div', class_='company')\n",
    "    location_elem = job_elem.find('div', class_='location')\n",
    "    if None in (title_elem, company_elem, location_elem):\n",
    "        continue\n",
    "    print(title_elem.text)\n",
    "    print(company_elem.text)\n",
    "    print(location_elem.text)\n",
    "\n",
    "# job = results.find('section', class_='location')\n",
    "# print(job)"
   ]
  },
  {
   "cell_type": "code",
   "execution_count": 55,
   "metadata": {},
   "outputs": [],
   "source": [
    "for job_elem in job_elems:\n",
    "    title_elem = job_elem.find('h2', class_='title')\n",
    "    company_elem = job_elem.find('div', class_='company')\n",
    "    location_elem = job_elem.find('div', class_='location')\n",
    "    if None in (title_elem, company_elem, location_elem):\n",
    "        continue\n",
    "    \n",
    "    if location_elem == \"New Orleans, LA\":\n",
    "        print(title_elem.text.strip())\n",
    "        print(company_elem.text.strip())\n",
    "        print(location_elem.text.strip())\n",
    "        print()"
   ]
  },
  {
   "cell_type": "code",
   "execution_count": 52,
   "metadata": {},
   "outputs": [
    {
     "name": "stdout",
     "output_type": "stream",
     "text": [
      "[]\n"
     ]
    }
   ],
   "source": [
    "nola_jobs = results.find_all('h2', string=lambda text: \"orleans\" in text.lower())\n",
    "print(nola_jobs)"
   ]
  },
  {
   "cell_type": "code",
   "execution_count": null,
   "metadata": {},
   "outputs": [],
   "source": []
  }
 ],
 "metadata": {
  "kernelspec": {
   "display_name": "Python 3",
   "language": "python",
   "name": "python3"
  },
  "language_info": {
   "codemirror_mode": {
    "name": "ipython",
    "version": 3
   },
   "file_extension": ".py",
   "mimetype": "text/x-python",
   "name": "python",
   "nbconvert_exporter": "python",
   "pygments_lexer": "ipython3",
   "version": "3.8.5"
  }
 },
 "nbformat": 4,
 "nbformat_minor": 4
}
