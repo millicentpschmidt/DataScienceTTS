{
 "cells": [
  {
   "cell_type": "markdown",
   "metadata": {},
   "source": [
    "# Day 1 Python Basics Assignments"
   ]
  },
  {
   "cell_type": "markdown",
   "metadata": {},
   "source": [
    "## Question 1: Accept the user's first and last name and print them in reverse order with a space between them"
   ]
  },
  {
   "cell_type": "code",
   "execution_count": 1,
   "metadata": {},
   "outputs": [
    {
     "name": "stdout",
     "output_type": "stream",
     "text": [
      "What is your first/given name?\n",
      "zaphod\n",
      "What is your last/family name?\n",
      "beeblebrox\n",
      "Your name is beeblebrox zaphod\n"
     ]
    }
   ],
   "source": [
    "print(\"What is your first/given name?\")\n",
    "first = input()\n",
    "print(\"What is your last/family name?\")\n",
    "last = input()\n",
    "print(\"Your name is \" + last + \" \" + first)"
   ]
  },
  {
   "cell_type": "markdown",
   "metadata": {},
   "source": [
    "## Question 2: Accept an integer (n) and compute the value of n+nn+nnn"
   ]
  },
  {
   "cell_type": "code",
   "execution_count": 10,
   "metadata": {},
   "outputs": [
    {
     "name": "stdout",
     "output_type": "stream",
     "text": [
      "Tell me a number:1\n",
      "Do you want to know n + nn + nnn?\n",
      "I hope so!\n",
      "n + nn + nnn = 3\n"
     ]
    }
   ],
   "source": [
    "n = int(input(\"Tell me a number:\"))\n",
    "print(\"Do you want to know n + nn + nnn?\")\n",
    "print(\"I hope so!\")\n",
    "n = n +  n ** 2  +  n ** 3\n",
    "print(\"n + nn + nnn = \" + str(n))\n",
    "\n",
    "# after looking at your answers, I think\n",
    "# I misinterpreted your question. When you\n",
    "# say nnn, I think you mean three repeated\n",
    "#digits of the same number. For my example,\n",
    "# I read nnn as n times n times n.\n",
    "# is that common mathematical notation for python?"
   ]
  },
  {
   "cell_type": "markdown",
   "metadata": {},
   "source": [
    "## Question 3: Ask the user \"What country are you from?\" then print the following statement: \"I have heard that [input] is a beautiful country!\""
   ]
  },
  {
   "cell_type": "code",
   "execution_count": 3,
   "metadata": {},
   "outputs": [
    {
     "name": "stdout",
     "output_type": "stream",
     "text": [
      "What country are you from?\n",
      "Croatia\n",
      "I've heard that Croatia is a beautiful country!\n"
     ]
    }
   ],
   "source": [
    "print(\"What country are you from?\")\n",
    "country = input()\n",
    "print(\"I've heard that \" + country + \" is a beautiful country!\")"
   ]
  },
  {
   "cell_type": "markdown",
   "metadata": {},
   "source": [
    "## Question 4: What is the output of x AND explain why that is the output for: x = 36 / 4 * (3 +  2) * 4 + 2"
   ]
  },
  {
   "cell_type": "code",
   "execution_count": 4,
   "metadata": {},
   "outputs": [
    {
     "name": "stdout",
     "output_type": "stream",
     "text": [
      "36 / 4 * (3 + 2) * 4 + 2 = 182.0\n",
      "Beacuase the order of operations is PEMDAS (parentheses, exponents, \n",
      "multiplication-division, addition, adnd subtraction)\n"
     ]
    }
   ],
   "source": [
    "x = 36 / 4 * (3 + 2) * 4 + 2\n",
    "x = str(x)\n",
    "print(\"36 / 4 * (3 + 2) * 4 + 2 = \" + x)\n",
    "print(\"Beacuase the order of operations is PEMDAS (parentheses, exponents, \")\n",
    "print(\"multiplication-division, addition, adnd subtraction)\")"
   ]
  },
  {
   "cell_type": "markdown",
   "metadata": {},
   "source": [
    "## Question 5: Is a string immutable in python?"
   ]
  },
  {
   "cell_type": "code",
   "execution_count": 3,
   "metadata": {},
   "outputs": [
    {
     "name": "stdout",
     "output_type": "stream",
     "text": [
      "Yes, a string is immutable in python because it can't be appended after it's creation.\n",
      "Variables can be reassigned, but in that case the pointer is just pointing to a new object.\n",
      "The original string was not changed.\n",
      "For Example:\n",
      "Let's point the variable 'box' to a string of your choosing\n",
      "hellow\n",
      "You pointed box to hellow\n",
      "But I can point 'box' to 'I am a jelly doughnut'.\n",
      "Now 'box' points to I am a jelly doughnut\n",
      "Your original phrase was not altered.\n",
      "140682459987440\n",
      "140682459987440\n"
     ]
    }
   ],
   "source": [
    "print(\"Yes, a string is immutable in python because it can't be appended after it's creation.\")\n",
    "print(\"Variables can be reassigned, but in that case the pointer is just pointing to a new object.\")\n",
    "print(\"The original string was not changed.\")\n",
    "print(\"For Example:\")\n",
    "print(\"Let's point the variable 'box' to a string of your choosing\")\n",
    "box = input()\n",
    "print(\"You pointed box to \" + box)\n",
    "print(\"But I can point 'box' to 'I am a jelly doughnut'.\")\n",
    "box = \"I am a jelly doughnut\"\n",
    "print(\"Now 'box' points to \" + box)\n",
    "print(\"Your original phrase was not altered.\")\n",
    "test = \"cat\"\n",
    "print(id(test))\n",
    "test = test.upper()\n",
    "print(id(test))"
   ]
  },
  {
   "cell_type": "markdown",
   "metadata": {},
   "source": [
    "# Super Data Science Episode 413: Changing the World with Data"
   ]
  },
  {
   "cell_type": "markdown",
   "metadata": {},
   "source": [
    "### Interview with data pop alliance founder, an academically inclined NGO that uses data to try to change the world, focusing on the goal south\n",
    "\n",
    "He has an economics and demography academic background\n",
    "\n",
    "Using data to measure/quantify problems vs addressing those problems\n",
    "How do data scientists influence policy?\n",
    "AI learns from data over time\n",
    "Need our whole culture to be interested in data and evidence based decisions\n",
    "Comes back to soft science--how do we make people interested in change?\n",
    "2030 sustainable development indicators\n",
    "Using data to better measure human processes\n",
    "Data as a lever vs days as a lens\n",
    "Requires people to trust science and data\n",
    "\n",
    "How can personal data be tapped into in ethical and safe ways?\n",
    "PII = personally identifiable information\n",
    "Don't open the pii\n",
    "Perform analyses on data through question and answer to the PII database\n",
    "\n",
    "How data can help with disaster resilience.\n",
    "Short term: predict spread of conflict, earthquake, fire, etc...\n",
    "Development/ longer-term: how can days change how we behave to prevent issues: less violent, less greedy, etc...\n",
    "\n",
    "Data for good movement can be complacent, working with big banks and not really getting to the root/systemic issues"
   ]
  },
  {
   "cell_type": "code",
   "execution_count": null,
   "metadata": {},
   "outputs": [],
   "source": []
  }
 ],
 "metadata": {
  "kernelspec": {
   "display_name": "Python 3",
   "language": "python",
   "name": "python3"
  },
  "language_info": {
   "codemirror_mode": {
    "name": "ipython",
    "version": 3
   },
   "file_extension": ".py",
   "mimetype": "text/x-python",
   "name": "python",
   "nbconvert_exporter": "python",
   "pygments_lexer": "ipython3",
   "version": "3.8.5"
  }
 },
 "nbformat": 4,
 "nbformat_minor": 4
}
