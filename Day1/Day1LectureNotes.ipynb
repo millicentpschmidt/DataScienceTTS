{
 "cells": [
  {
   "cell_type": "markdown",
   "metadata": {},
   "source": [
    "# Day 1 Lecture Notes"
   ]
  },
  {
   "cell_type": "markdown",
   "metadata": {},
   "source": [
    "## Variables"
   ]
  },
  {
   "cell_type": "markdown",
   "metadata": {},
   "source": [
    "### Definition: a pointer that points to an object"
   ]
  },
  {
   "cell_type": "markdown",
   "metadata": {},
   "source": [
    "### Write a code example of a the variable x being assigned to a string, y being assigned to a float, and z being assigned to an integer. Print all 3 in one line all together seperated by a space."
   ]
  },
  {
   "cell_type": "code",
   "execution_count": 4,
   "metadata": {},
   "outputs": [
    {
     "name": "stdout",
     "output_type": "stream",
     "text": [
      "Hello world 5.0 5\n",
      "Hello world   5.0   5\n"
     ]
    }
   ],
   "source": [
    "x = str(\"Hello world\")\n",
    "y = float(5)\n",
    "z = int(5)\n",
    "print(x + \" \" + str(y) + \" \" + str(z))\n",
    "# another way to print on the same line is like this\n",
    "print(x, \" \", y, \" \", z)"
   ]
  },
  {
   "cell_type": "markdown",
   "metadata": {},
   "source": [
    "### Add a comment to your code above. [done]"
   ]
  },
  {
   "cell_type": "markdown",
   "metadata": {},
   "source": [
    "### Assign the variable A to a string and assign variable a to an integer. Print both in 2 seperate lines. Explain what this teaches you."
   ]
  },
  {
   "cell_type": "code",
   "execution_count": 31,
   "metadata": {},
   "outputs": [
    {
     "name": "stdout",
     "output_type": "stream",
     "text": [
      "\n",
      "0\n"
     ]
    }
   ],
   "source": [
    "A = str()\n",
    "a = int()\n",
    "print(A)\n",
    "print(a)"
   ]
  },
  {
   "cell_type": "markdown",
   "metadata": {},
   "source": [
    "#### So this is showing that the default string is a blank space and the default integer is 0"
   ]
  },
  {
   "cell_type": "markdown",
   "metadata": {},
   "source": [
    "### What are the rules for variable names?"
   ]
  },
  {
   "cell_type": "markdown",
   "metadata": {},
   "source": [
    "#### Can be any length\n",
    "#### Can contain upper and lowercase letters: A-Z and a-z\n",
    "#### Can contian digits 0-9\n",
    "#### Can include the underscore _\n",
    "#### Cannot begin with a number"
   ]
  },
  {
   "cell_type": "markdown",
   "metadata": {},
   "source": [
    "### Give an example of 3 correctly formatted variable names and 3 incorrectly formatted variable names."
   ]
  },
  {
   "cell_type": "code",
   "execution_count": 7,
   "metadata": {},
   "outputs": [
    {
     "ename": "SyntaxError",
     "evalue": "invalid syntax (<ipython-input-7-17a5ec396458>, line 6)",
     "output_type": "error",
     "traceback": [
      "\u001b[0;36m  File \u001b[0;32m\"<ipython-input-7-17a5ec396458>\"\u001b[0;36m, line \u001b[0;32m6\u001b[0m\n\u001b[0;31m    1value = 3.14\u001b[0m\n\u001b[0m     ^\u001b[0m\n\u001b[0;31mSyntaxError\u001b[0m\u001b[0;31m:\u001b[0m invalid syntax\n"
     ]
    }
   ],
   "source": [
    "# correctly formatted\n",
    "value1 = 3.14\n",
    "Value_One = 3.14\n",
    "value4EVA = 3.14\n",
    "# incorrectly formated\n",
    "1value = 3.14\n",
    "555 = 3.14\n",
    "valu3* = 3.14"
   ]
  },
  {
   "cell_type": "markdown",
   "metadata": {},
   "source": [
    "## Data Classes"
   ]
  },
  {
   "cell_type": "markdown",
   "metadata": {},
   "source": [
    "### Print the data types of 3 of the variable you have already created"
   ]
  },
  {
   "cell_type": "code",
   "execution_count": 17,
   "metadata": {},
   "outputs": [
    {
     "name": "stdout",
     "output_type": "stream",
     "text": [
      "value1 is a \n",
      "<class 'float'>\n",
      "x is a \n",
      "<class 'str'>\n",
      "z is a \n",
      "<class 'float'>\n"
     ]
    }
   ],
   "source": [
    "value1 = 3.14\n",
    "value1_type = type(value1)\n",
    "print(\"value1 is a \")\n",
    "print(value1_type)\n",
    "x = str(\"A\")\n",
    "x_type = type(x)\n",
    "print(\"x is a \")\n",
    "print(x_type)\n",
    "z = float(5)\n",
    "z_type = type(z)\n",
    "print(\"z is a \")\n",
    "print(z_type)"
   ]
  },
  {
   "cell_type": "markdown",
   "metadata": {},
   "source": [
    "### Create a table that has the column headers Data Type, Example, Description. In the table fill out the columns for a string, integer, float, and complex."
   ]
  },
  {
   "cell_type": "code",
   "execution_count": 27,
   "metadata": {},
   "outputs": [
    {
     "name": "stdout",
     "output_type": "stream",
     "text": [
      "Data Type    Example     Description\n",
      "string       Hello       an immutable combination of letters and numbers\n",
      "integer      94823       a whole number that's not a fraction\n",
      "float        3.141       a fractional number represented as a decimal\n",
      "complex      1 + 2j      a number that includes the square root of -1, represented by j in python\n"
     ]
    }
   ],
   "source": [
    "print(\"Data Type\", \"  \", \"Example\", \"   \", \"Description\")\n",
    "print(\"string\", \"     \", \"Hello\", \"     \", \"an immutable combination of letters and numbers\")\n",
    "print(\"integer\", \"    \", \"94823\", \"     \", \"a whole number that's not a fraction\")\n",
    "print(\"float\", \"      \", \"3.141\", \"     \", \"a fractional number represented as a decimal\")\n",
    "print(\"complex\", \"    \", \"1 + 2j\", \"    \", \"a number that includes the square root of -1, represented by j in python\")"
   ]
  },
  {
   "cell_type": "markdown",
   "metadata": {},
   "source": [
    "### Converting between types"
   ]
  },
  {
   "cell_type": "code",
   "execution_count": 28,
   "metadata": {},
   "outputs": [
    {
     "name": "stdout",
     "output_type": "stream",
     "text": [
      "5.0\n",
      "3\n",
      "(5+0j)\n",
      "<class 'float'>\n",
      "<class 'int'>\n",
      "<class 'complex'>\n"
     ]
    }
   ],
   "source": [
    "#You can convert from one type to another with the int(), float(), and complex() methods:\n",
    "x = 5    # int\n",
    "y = 3.14  # float\n",
    "z = 4j   # complex\n",
    "\n",
    "#convert from int to float:\n",
    "a = float(x)\n",
    "\n",
    "#convert from float to int:\n",
    "b = int(y)\n",
    "\n",
    "#convert from int to complex:\n",
    "c = complex(x)\n",
    "\n",
    "print(a)\n",
    "print(b)\n",
    "print(c)\n",
    "\n",
    "print(type(a))\n",
    "print(type(b))\n",
    "print(type(c))"
   ]
  },
  {
   "cell_type": "markdown",
   "metadata": {},
   "source": [
    "## The Illusion of Randomness"
   ]
  },
  {
   "cell_type": "markdown",
   "metadata": {},
   "source": [
    "### Python does not have a random() function to make a random number, but Python has a built-in module called random that can be used to make random numbers:"
   ]
  },
  {
   "cell_type": "code",
   "execution_count": 29,
   "metadata": {},
   "outputs": [
    {
     "name": "stdout",
     "output_type": "stream",
     "text": [
      "10\n"
     ]
    }
   ],
   "source": [
    "import random\n",
    "\n",
    "print(random.randrange(1, 50))"
   ]
  },
  {
   "cell_type": "markdown",
   "metadata": {},
   "source": [
    "## Casting"
   ]
  },
  {
   "cell_type": "markdown",
   "metadata": {},
   "source": [
    "### definition: specifying a type onto a variable"
   ]
  },
  {
   "cell_type": "code",
   "execution_count": 30,
   "metadata": {},
   "outputs": [
    {
     "name": "stdout",
     "output_type": "stream",
     "text": [
      "1 2 3 1.0 2.8 3.0 4.2 s1 2 3.0\n"
     ]
    }
   ],
   "source": [
    "a = int(1)   # a will be 1\n",
    "b = int(2.8) # b will be 2\n",
    "c = int(\"3\") # c will be 3\n",
    "d = float(1)     # d will be 1.0\n",
    "e = float(2.8)   # e will be 2.8\n",
    "f = float(\"3\")   # f will be 3.0\n",
    "g = float(\"4.2\") # g will be 4.2\n",
    "h = str(\"s1\") # h will be 's1'\n",
    "i = str(2)    # i will be '2'\n",
    "j = str(3.0)  # j will be '3.0'\n",
    "print ( a, b, c, d, e, f, g, h, i, j)"
   ]
  },
  {
   "cell_type": "markdown",
   "metadata": {},
   "source": [
    "## Math!"
   ]
  },
  {
   "cell_type": "markdown",
   "metadata": {},
   "source": [
    "### Using the variables above, show me example of addition, subtraction, division, exponentiation, and modulus."
   ]
  },
  {
   "cell_type": "code",
   "execution_count": 35,
   "metadata": {},
   "outputs": [
    {
     "name": "stdout",
     "output_type": "stream",
     "text": [
      "3 1.7999999999999998 2.8 8.4 9.0 0\n"
     ]
    }
   ],
   "source": [
    "a = int(1)   # a will be 1\n",
    "b = int(2.8) # b will be 2\n",
    "c = int(\"3\") # c will be 3\n",
    "d = float(1)     # d will be 1.0\n",
    "e = float(2.8)   # e will be 2.8\n",
    "f = float(\"3\")   # f will be 3.0\n",
    "g = float(\"4.2\") # g will be 4.2\n",
    "h = str(\"s1\") # h will be 's1'\n",
    "i = str(2)    # i will be '2'\n",
    "j = str(3.0)  # j will be '3.0'\n",
    "\n",
    "# addition should be 3\n",
    "sum1 = a + b\n",
    "# subtraction should be 1.8 (rounded)\n",
    "diff1 = e - d\n",
    "# division should be 2.8\n",
    "div1 = e / a\n",
    "# multiplication should be 8.4\n",
    "mult1 = b * g\n",
    "# exponents should be 9.0\n",
    "exp1 = f ** b\n",
    "# modulus, 3 mod 1 should be 0\n",
    "mod1 = c % a\n",
    "print(sum1, diff1, div1, mult1, exp1, mod1)"
   ]
  },
  {
   "cell_type": "markdown",
   "metadata": {},
   "source": [
    "## User Inputs"
   ]
  },
  {
   "cell_type": "code",
   "execution_count": 32,
   "metadata": {},
   "outputs": [
    {
     "name": "stdout",
     "output_type": "stream",
     "text": [
      "Enter your name:\n",
      "Ford Prefect\n",
      "Hello, Ford Prefect\n"
     ]
    }
   ],
   "source": [
    "# Run this code \n",
    "print('Enter your name:')\n",
    "x = input()\n",
    "print('Hello, ' + x)"
   ]
  }
 ],
 "metadata": {
  "kernelspec": {
   "display_name": "Python 3",
   "language": "python",
   "name": "python3"
  },
  "language_info": {
   "codemirror_mode": {
    "name": "ipython",
    "version": 3
   },
   "file_extension": ".py",
   "mimetype": "text/x-python",
   "name": "python",
   "nbconvert_exporter": "python",
   "pygments_lexer": "ipython3",
   "version": "3.8.5"
  }
 },
 "nbformat": 4,
 "nbformat_minor": 4
}
