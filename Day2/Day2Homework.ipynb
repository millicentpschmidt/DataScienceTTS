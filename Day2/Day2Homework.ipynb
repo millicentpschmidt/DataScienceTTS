{
 "cells": [
  {
   "cell_type": "markdown",
   "metadata": {},
   "source": [
    "# Day 2 Homework: Python Data Structures"
   ]
  },
  {
   "cell_type": "markdown",
   "metadata": {},
   "source": [
    "## Exercise 1\n",
    "Take the following two lists. Create a third list by picking a odd-index elements from the first list and even-index elements from the second.\n",
    "\n",
    "listOne = [3, 6, 9, 12, 15, 18, 21]\n",
    "listTwo = [4, 8, 12, 16, 20, 24, 28]"
   ]
  },
  {
   "cell_type": "code",
   "execution_count": 3,
   "metadata": {},
   "outputs": [
    {
     "name": "stdout",
     "output_type": "stream",
     "text": [
      "[6, 12, 18]\n",
      "[8, 16, 24]\n",
      "[6, 12, 18, 8, 16, 24]\n"
     ]
    }
   ],
   "source": [
    "L1 = [3,6,9,12,15,18,21]\n",
    "L2 = [4, 8, 12, 16, 20, 24, 28]\n",
    "oddIndex = L1[1::2]\n",
    "print(oddIndex)\n",
    "evenIndex = L2[1::2]\n",
    "print(evenIndex)\n",
    "newList = oddIndex + evenIndex\n",
    "print(newList)"
   ]
  },
  {
   "cell_type": "markdown",
   "metadata": {},
   "source": [
    "## Exercise 2\n",
    "Take the following list. Slice it into three equal chunks and reverse each list.\n",
    "\n",
    "sampleList = [11, 45, 8, 23, 14, 12, 78, 45, 89]"
   ]
  },
  {
   "cell_type": "code",
   "execution_count": 13,
   "metadata": {},
   "outputs": [
    {
     "name": "stdout",
     "output_type": "stream",
     "text": [
      "[11, 45, 8]\n",
      "[23, 14, 12]\n",
      "[78, 45, 89]\n",
      "[8, 45, 11]\n",
      "[12, 14, 23]\n",
      "[89, 45, 78]\n"
     ]
    }
   ],
   "source": [
    "sampleList = [11, 45, 8, 23, 14, 12, 78, 45, 89]\n",
    "Lb = sampleList[0:3]\n",
    "print(Lb)\n",
    "Lb = Lb[::-1]\n",
    "\n",
    "Lm = sampleList[3:6]\n",
    "print(Lm)\n",
    "Lm = Lm[::-1]\n",
    "\n",
    "Le = sampleList[6:]\n",
    "print(Le)\n",
    "Le = Le[::-1]\n",
    "\n",
    "print(Lb)\n",
    "print(Lm)\n",
    "print(Le)"
   ]
  },
  {
   "cell_type": "markdown",
   "metadata": {},
   "source": [
    "## Exercise 3\n",
    "Iterate through a given list and check if a given element already exists in a dictionary as a key’s value. If not, delete it from the list.\n",
    "\n",
    "rollNumber = [47, 64, 69, 37, 76, 83, 95, 97]\n",
    "sampleDict ={'Zach':47, 'Emma':69, 'Kelly':76, 'Jason':97}"
   ]
  },
  {
   "cell_type": "code",
   "execution_count": 16,
   "metadata": {},
   "outputs": [
    {
     "name": "stdout",
     "output_type": "stream",
     "text": [
      "[47, 64, 69, 37, 76, 83, 95, 97]\n",
      "{'Zach': 47, 'Emma': 69, 'Kelly': 76, 'Jason': 97}\n",
      "[47, 69, 76, 97]\n"
     ]
    }
   ],
   "source": [
    "rollNumber = [47, 64, 69, 37, 76, 83, 95, 97]\n",
    "sampleDict ={'Zach':47, 'Emma':69, 'Kelly':76, 'Jason':97}\n",
    "\n",
    "print(rollNumber)\n",
    "print(sampleDict)\n",
    "\n",
    "rollNumber[:] = [val for val in rollNumber if val in sampleDict.values()]\n",
    "print(rollNumber)"
   ]
  },
  {
   "cell_type": "markdown",
   "metadata": {},
   "source": [
    "## Exercise 4\n",
    "Choose all the valid string creation in python \n",
    "\n",
    "str1 = “str1”\n",
    "str1 = ‘str1’\n",
    "str1 = ”’str1”’\n",
    "str1 = str(“str1”)"
   ]
  },
  {
   "cell_type": "code",
   "execution_count": 21,
   "metadata": {},
   "outputs": [
    {
     "name": "stdout",
     "output_type": "stream",
     "text": [
      "str1\n",
      "str1\n",
      "str1\n"
     ]
    }
   ],
   "source": [
    "str1 = \"str1\" # valid\n",
    "print(str1)\n",
    "str1 = 'str1' # valid\n",
    "print(str1)\n",
    "# str1 = ”’str1”’ # not valid\n",
    "# print(str1)\n",
    "str1 = str(\"str1\") # valid\n",
    "print(str1)"
   ]
  },
  {
   "cell_type": "markdown",
   "metadata": {},
   "source": [
    "## Exercise 5\n",
    "What is the output of the following code and why?\n",
    "\n",
    "print(bool(0), bool(3.14159), bool(-3), bool(1.0+1j))"
   ]
  },
  {
   "cell_type": "code",
   "execution_count": 22,
   "metadata": {},
   "outputs": [
    {
     "name": "stdout",
     "output_type": "stream",
     "text": [
      "False True True True\n"
     ]
    }
   ],
   "source": [
    "print(bool(0)) # because zero is false for boolean\n",
    "print(bool(3.14159)) # Frue because any number is true for boolean\n",
    "print(bool(-3)) # True because a negative number is not 0, which would be false\n",
    "print(bool(1.0+1j)) # True because  is a non-zero complex number"
   ]
  },
  {
   "cell_type": "markdown",
   "metadata": {},
   "source": [
    "## Exercise 6\n",
    "What is the data type of print(type(0xFF))"
   ]
  },
  {
   "cell_type": "code",
   "execution_count": 24,
   "metadata": {},
   "outputs": [
    {
     "name": "stdout",
     "output_type": "stream",
     "text": [
      "<class 'int'>\n",
      "255\n"
     ]
    }
   ],
   "source": [
    "print(type(0xFF)) # this is in hexidecimal, which is still a number system\n",
    "print(0xFF)"
   ]
  },
  {
   "cell_type": "markdown",
   "metadata": {},
   "source": [
    "## Data Skeptic Podcast\n",
    "### Even Cooperative Chess is Hard\n",
    "\n",
    "I once went to a nuclear physics conference as an undergrad as part of a progrram to give undergrads experience at conferences. I went to a Nuclear Theory I session thinking I meant intro. It did not. I pretty much understood conjunctions and prepositions. This podcast had a similar feel. I took a lot of math in undergrad and grad school, but this podcast was a like a graduate seminar level discussion of gaming algorithms. I love games of all kinds so it was potentially very interesting. But it was too far over my head.\n",
    "\n",
    "Summary:\n",
    " - p space complete\n",
    " - p space\n",
    " - chess is hard"
   ]
  },
  {
   "cell_type": "code",
   "execution_count": null,
   "metadata": {},
   "outputs": [],
   "source": []
  }
 ],
 "metadata": {
  "kernelspec": {
   "display_name": "Python 3",
   "language": "python",
   "name": "python3"
  },
  "language_info": {
   "codemirror_mode": {
    "name": "ipython",
    "version": 3
   },
   "file_extension": ".py",
   "mimetype": "text/x-python",
   "name": "python",
   "nbconvert_exporter": "python",
   "pygments_lexer": "ipython3",
   "version": "3.8.5"
  }
 },
 "nbformat": 4,
 "nbformat_minor": 4
}
