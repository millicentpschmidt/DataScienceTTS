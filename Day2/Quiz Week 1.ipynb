{
 "cells": [
  {
   "cell_type": "markdown",
   "metadata": {},
   "source": [
    "# Quiz Week 1"
   ]
  },
  {
   "cell_type": "markdown",
   "metadata": {},
   "source": [
    "1.) What are the data types of the following: print(type(5.21)), print(type(5j))?"
   ]
  },
  {
   "cell_type": "code",
   "execution_count": 4,
   "metadata": {},
   "outputs": [
    {
     "name": "stdout",
     "output_type": "stream",
     "text": [
      "<class 'float'>\n",
      "<class 'complex'>\n"
     ]
    }
   ],
   "source": [
    "print(type(5.21))\n",
    "print(type(5j))"
   ]
  },
  {
   "cell_type": "markdown",
   "metadata": {},
   "source": [
    "2.) Does python have a random( ) function to generate random numbers?"
   ]
  },
  {
   "cell_type": "markdown",
   "metadata": {},
   "source": [
    "No it instead has a module called random that can be used to make random numbers."
   ]
  },
  {
   "cell_type": "markdown",
   "metadata": {},
   "source": [
    "3.) What is the output of x ?\n",
    "\n",
    "x = 45 / 9 * (4 + 3) * 6 + 2"
   ]
  },
  {
   "cell_type": "code",
   "execution_count": 6,
   "metadata": {},
   "outputs": [
    {
     "name": "stdout",
     "output_type": "stream",
     "text": [
      "212.0\n"
     ]
    }
   ],
   "source": [
    "x = 45 / 9 * (4 + 3) * 6 + 2\n",
    "print(x)"
   ]
  },
  {
   "cell_type": "markdown",
   "metadata": {},
   "source": [
    "4.) Give an example of int(), float(), and string().\n"
   ]
  },
  {
   "cell_type": "code",
   "execution_count": 7,
   "metadata": {},
   "outputs": [
    {
     "name": "stdout",
     "output_type": "stream",
     "text": [
      "<class 'int'>\n",
      "<class 'float'>\n",
      "<class 'str'>\n"
     ]
    }
   ],
   "source": [
    "x = 5\n",
    "y = 2.31\n",
    "z = \"Hi\"\n",
    "print(type(x))\n",
    "print(type(y))\n",
    "print(type(z))"
   ]
  },
  {
   "cell_type": "markdown",
   "metadata": {},
   "source": [
    "5.) Ask the user \"What make and model car they drive?\" then print the following statement: \"I have heard that the [input] is a pretty cool car!\"."
   ]
  },
  {
   "cell_type": "code",
   "execution_count": 1,
   "metadata": {},
   "outputs": [
    {
     "name": "stdout",
     "output_type": "stream",
     "text": [
      "What make and model car do you drive?Kia Sedona\n",
      "I've heard that the Kia Sedona is a pretty cool car!\n"
     ]
    }
   ],
   "source": [
    "makeModel = input(\"What make and model car do you drive?\")\n",
    "print(\"I've heard that the \" + makeModel + \" is a pretty cool car!\")"
   ]
  },
  {
   "cell_type": "code",
   "execution_count": 8,
   "metadata": {},
   "outputs": [
    {
     "name": "stdout",
     "output_type": "stream",
     "text": [
      "What make and model car they drive? Chevrolet Silverado\n",
      "I have heard that the Chevrolet Silverado is a pretty cool car!. \n"
     ]
    }
   ],
   "source": [
    "car = str(input(\"What make and model car they drive? \"))\n",
    "print(\"I have heard that the \" + car + \" is a pretty cool car!. \")"
   ]
  },
  {
   "cell_type": "markdown",
   "metadata": {},
   "source": [
    "6.) What is the output of the following code?\n",
    "\n",
    "print(bool(21.34), bool(0), bool(12), bool(3-3))"
   ]
  },
  {
   "cell_type": "code",
   "execution_count": 9,
   "metadata": {},
   "outputs": [
    {
     "name": "stdout",
     "output_type": "stream",
     "text": [
      "True False True False\n"
     ]
    }
   ],
   "source": [
    "print(bool(21.34), bool(0), bool(12), bool(3-3))"
   ]
  },
  {
   "cell_type": "markdown",
   "metadata": {},
   "source": [
    "7.) What boolean output would you recieve from a empty sequence bool([]) and from a normal sequence bool([10, 5, 6])? "
   ]
  },
  {
   "cell_type": "code",
   "execution_count": 11,
   "metadata": {},
   "outputs": [
    {
     "name": "stdout",
     "output_type": "stream",
     "text": [
      "False\n",
      "True\n"
     ]
    }
   ],
   "source": [
    "print(bool([]))\n",
    "print(bool([10, 5, 6]))"
   ]
  },
  {
   "cell_type": "markdown",
   "metadata": {},
   "source": [
    "8.) You have the list L = [2,4,5,7,19,20]\n",
    "\n",
    "What is the length of the list?\n",
    "\n",
    "Concatenate the list [27,30,31]."
   ]
  },
  {
   "cell_type": "code",
   "execution_count": 2,
   "metadata": {},
   "outputs": [
    {
     "name": "stdout",
     "output_type": "stream",
     "text": [
      "6\n",
      "[2, 4, 5, 7, 19, 20, 27, 30, 31]\n"
     ]
    }
   ],
   "source": [
    "L1 = [2,4,5,7,19,20]\n",
    "Laddendum = [27, 30, 31]\n",
    "\n",
    "print(len(L1))\n",
    "L1.extend(Laddendum)\n",
    "print(L1)"
   ]
  },
  {
   "cell_type": "code",
   "execution_count": 17,
   "metadata": {},
   "outputs": [
    {
     "name": "stdout",
     "output_type": "stream",
     "text": [
      "6\n",
      "[2, 4, 5, 7, 19, 20, 27, 30, 31]\n"
     ]
    }
   ],
   "source": [
    "L = [2,4,5,7,19,20]\n",
    "\n",
    "print(len(L))\n",
    "\n",
    "print(L + [27,30,31])\n"
   ]
  },
  {
   "cell_type": "markdown",
   "metadata": {},
   "source": [
    "9.) What is the main difference between a tuple and a list?"
   ]
  },
  {
   "cell_type": "markdown",
   "metadata": {},
   "source": [
    "Tuple is a immutable ordered collection which is defined by () and a list is a ordered collection defined by []."
   ]
  },
  {
   "cell_type": "markdown",
   "metadata": {},
   "source": [
    "10.) We have lst = [1, 2, 3, 4, 6] what would lst.append(10) do the list?"
   ]
  },
  {
   "cell_type": "code",
   "execution_count": 18,
   "metadata": {},
   "outputs": [
    {
     "name": "stdout",
     "output_type": "stream",
     "text": [
      "[1, 2, 3, 4, 6, 10]\n"
     ]
    }
   ],
   "source": [
    "lst = [1, 2, 3, 4, 6]\n",
    "lst.append(10)\n",
    "print(lst)"
   ]
  }
 ],
 "metadata": {
  "kernelspec": {
   "display_name": "Python 3",
   "language": "python",
   "name": "python3"
  },
  "language_info": {
   "codemirror_mode": {
    "name": "ipython",
    "version": 3
   },
   "file_extension": ".py",
   "mimetype": "text/x-python",
   "name": "python",
   "nbconvert_exporter": "python",
   "pygments_lexer": "ipython3",
   "version": "3.8.5"
  }
 },
 "nbformat": 4,
 "nbformat_minor": 4
}
